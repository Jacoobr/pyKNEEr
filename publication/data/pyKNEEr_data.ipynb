{
 "cells": [
  {
   "cell_type": "markdown",
   "metadata": {},
   "source": [
    "# Data used to validate pyKNEEr\n",
    "Content under Creative Commons Attribution license CC-BY-NC 4.0   \n",
    "Code under GNU-GPL v3 License  \n",
    "© 2019 Serena Bonaretti\n",
    "---"
   ]
  },
  {
   "cell_type": "markdown",
   "metadata": {},
   "source": [
    "## Image characteristics\n",
    "Data characteristics are extracted from the files *_orig.txt* created in the preprocessing step"
   ]
  },
  {
   "cell_type": "code",
   "execution_count": 1,
   "metadata": {},
   "outputs": [],
   "source": [
    "import numpy  as np\n",
    "import pandas as pd\n",
    "import os"
   ]
  },
  {
   "cell_type": "markdown",
   "metadata": {},
   "source": [
    "### Functions to convert *_orig.txt* files to a pandas dataframe"
   ]
  },
  {
   "cell_type": "code",
   "execution_count": 2,
   "metadata": {},
   "outputs": [],
   "source": [
    "def dicom_tags(): \n",
    "    '''\n",
    "    list of tags of interest \n",
    "    ''' \n",
    "    # list with the tags of interest\n",
    "    tags_of_interest = []\n",
    "    \n",
    "    # image characteristics\n",
    "    tags_of_interest.append([\"0018|0050\", \"SliceThickness\"])\n",
    "    tags_of_interest.append([\"0018|0088\", \"SpacingBetweenSlices\"])\n",
    "    tags_of_interest.append([\"0028|0030\", \"PixelSpacing\"])\n",
    "    tags_of_interest.append([\"0028|0010\", \"Rows\"])\n",
    "    tags_of_interest.append([\"0028|0011\", \"Columns\"])\n",
    "    \n",
    "    # acquisition characteristics\n",
    "    tags_of_interest.append([\"0018|0080\", \"RepetitionTime\"])\n",
    "    tags_of_interest.append([\"0018|0081\", \"EchoTime\"])\n",
    "    tags_of_interest.append([\"0018|0086\", \"EchoNumbers\"])\n",
    "    tags_of_interest.append([\"0018|1314\", \"FlipAngle\"])\n",
    "    tags_of_interest.append([\"0018|1030\", \"ProtocolName\"])\n",
    "    tags_of_interest.append([\"0008|103e\", \"SeriesDescription\"])\n",
    "    tags_of_interest.append([\"0018|0023\", \"MRAcquisitionType\"])\n",
    "    tags_of_interest.append([\"0018|0084\", \"ImagingFrequency\"])\n",
    "    \n",
    "    # hardware characteristics\n",
    "    tags_of_interest.append([\"0008|0060\", \"Modality\"]) \n",
    "    tags_of_interest.append([\"0008|0070\", \"Manufacturer\"])\n",
    "    tags_of_interest.append([\"0008|0080\", \"InstitutionName\"])\n",
    "    tags_of_interest.append([\"0008|1090\", \"ManufacturerModelName\"])\n",
    "    tags_of_interest.append([\"0018|1020\", \"SoftwareVersions\"])\n",
    "    tags_of_interest.append([\"0018|1250\", \"ReceiveCoilName\"])\n",
    "    tags_of_interest.append([\"0018|0087\", \"MagneticFieldStrength\"])\n",
    "    \n",
    "    # subject characteristics\n",
    "    tags_of_interest.append([\"0010|0020\", \"PatientID\"])\n",
    "    tags_of_interest.append([\"0010|0030\", \"PatientBirthDate\"])\n",
    "    tags_of_interest.append([\"0010|0040\", \"PatientSex\"])\n",
    "    tags_of_interest.append([\"0010|1010\", \"PatientAge\"])\n",
    "    tags_of_interest.append([\"0010|1030\", \"PatientWeight\"])\n",
    "    \n",
    "    return tags_of_interest"
   ]
  },
  {
   "cell_type": "code",
   "execution_count": 3,
   "metadata": {},
   "outputs": [],
   "source": [
    "def from_file_to_list(folder, file_name):\n",
    "    '''\n",
    "    read and parse *_orig.txt, and find the values corresponding to \"tags_of_interest\" \n",
    "    '''\n",
    "    \n",
    "    # get the list of tags of interest\n",
    "    tags_of_interest = dicom_tags()\n",
    "    # extract the numerical tags (first column of tags_of_interest)\n",
    "    num_tags         = [row[0] for row in tags_of_interest]\n",
    "\n",
    "    # get the dicom tags in the current file\n",
    "    \n",
    "    tags   = [] # list of dicom ID found in num_tags\n",
    "    values = [] # content of *_orig.txt (each element is a file row) \n",
    "    \n",
    "    # get all values and tags\n",
    "    for line in open(folder + file_name):\n",
    "        # get the whole row\n",
    "        row = line.rstrip(\"\\n\")\n",
    "        # get the dicom tag\n",
    "        tags.append(row[0:9])\n",
    "        # get the value corresponding to the tag\n",
    "        values.append(row[10:len(row)])\n",
    "        \n",
    "    # select the values corresponding to the tags of interest\n",
    "    values_of_interest = [] # values corresponding to tags of interest\n",
    "    # browse the tags of interest (they are less than the image tags)\n",
    "    for current_tag in num_tags:\n",
    "        # if a tag of interest is present in the current dicom header, get the value\n",
    "        if current_tag in tags:\n",
    "            # get the index\n",
    "            index = tags.index(current_tag)\n",
    "            # get the value\n",
    "            values_of_interest.append(values[index])\n",
    "        # otherwise write \"NA\"\n",
    "        else:\n",
    "            values_of_interest.append(\"NA\")\n",
    "\n",
    "    return values_of_interest\n"
   ]
  },
  {
   "cell_type": "code",
   "execution_count": 4,
   "metadata": {},
   "outputs": [],
   "source": [
    "def create_data_frame(folder):\n",
    "    \n",
    "    # get the list of tags of interest\n",
    "    tags_of_interest = dicom_tags()\n",
    "    # extract the string tags (second column of tags_of_interest)\n",
    "    tags_string      = [row[1] for row in tags_of_interest]\n",
    "    # add file name of *_orig.txt\n",
    "    tags_string.append(\"fileName\")\n",
    "    \n",
    "    # get the values corresponding to the tags of interest\n",
    "\n",
    "    # find all *_orig.txt files in the folder\n",
    "    file_names_list = []\n",
    "    for file_name in os.listdir(folder):\n",
    "        if file_name.endswith(\"_orig.txt\") and file_name[0] != \".\": # !=  \".\" is to exclude hidden files\n",
    "            file_names_list.append(file_name)\n",
    "\n",
    "    # get the values corresponding to tags\n",
    "    all_data = []\n",
    "    for file_name in file_names_list:\n",
    "        vector = from_file_to_list(folder, file_name)\n",
    "        # add the *_orig.txt filename\n",
    "        file_name_root, file_name_ext = os.path.splitext(file_name)\n",
    "        vector.append(file_name_root)\n",
    "        # assign vector to bigger matrix\n",
    "        all_data.append(vector)\n",
    "    \n",
    "    # put values in pandas dataframe\n",
    "    df = pd.DataFrame.from_records(all_data)\n",
    "    # assign column labels\n",
    "    df.columns = tags_string\n",
    "    # start index from 1\n",
    "    df.index = np.arange(1,len(df)+1) # start counting rows from 1\n",
    "    # move file name to first column\n",
    "    col = df['fileName']\n",
    "    df.drop(labels=['fileName'], axis=1, inplace=True)\n",
    "    df.insert(0,'fileName',col)\n",
    "    # show all rows and columns\n",
    "    dataDimension = df.shape # get number of rows\n",
    "    pd.set_option(\"display.max_rows\",dataDimension[0])\n",
    "    #pd.set_option(\"display.max_columns\",dataDimension[1])\n",
    "    \n",
    "    return df"
   ]
  },
  {
   "cell_type": "markdown",
   "metadata": {},
   "source": [
    "---"
   ]
  },
  {
   "cell_type": "markdown",
   "metadata": {},
   "source": [
    "## Load data\n",
    "The following folder paths point to a harddrive. The folders contain the same images as the folders in Zenodo"
   ]
  },
  {
   "cell_type": "code",
   "execution_count": 5,
   "metadata": {},
   "outputs": [],
   "source": [
    "# OAI1\n",
    "folder_OAI1  = \"/Volumes/SereHD/work/data_pyKNEEr/OAI1/preprocessed/\"\n",
    "df_OAI1      = create_data_frame(folder_OAI1)\n",
    "df_OAI1.name = \"OAI1\" # name dataframe for print in queries\n",
    "#display(df_OAI1)"
   ]
  },
  {
   "cell_type": "code",
   "execution_count": 6,
   "metadata": {},
   "outputs": [],
   "source": [
    "# OAI2\n",
    "folder_OAI2  = \"/Volumes/SereHD/work/data_pyKNEEr/OAI2/preprocessed/\"\n",
    "df_OAI2      = create_data_frame(folder_OAI2)\n",
    "df_OAI2.name = \"OAI2\" # name dataframe for print in queries\n",
    "#display(df_OAI2)"
   ]
  },
  {
   "cell_type": "code",
   "execution_count": 7,
   "metadata": {},
   "outputs": [],
   "source": [
    "# in-house\n",
    "folder_inHouse  = \"/Volumes/SereHD/work/data_pyKNEEr/inHouse/preprocessed/\"\n",
    "df_inHouse      = create_data_frame(folder_inHouse)\n",
    "df_inHouse.name = \"inHouse\" # name dataframe for print in queries\n",
    "#display(df_inHouse)"
   ]
  },
  {
   "cell_type": "code",
   "execution_count": 8,
   "metadata": {},
   "outputs": [],
   "source": [
    "# dataframes in list for for loops in queries\n",
    "dfs = [df_OAI1,df_OAI2,df_inHouse]"
   ]
  },
  {
   "cell_type": "markdown",
   "metadata": {},
   "source": [
    "--- "
   ]
  },
  {
   "cell_type": "markdown",
   "metadata": {},
   "source": [
    "## Query data"
   ]
  },
  {
   "cell_type": "markdown",
   "metadata": {},
   "source": [
    "### Q: How many *dicom stacks* per dataset?"
   ]
  },
  {
   "cell_type": "code",
   "execution_count": 9,
   "metadata": {},
   "outputs": [
    {
     "name": "stdout",
     "output_type": "stream",
     "text": [
      "Number of dicom stacks: \n",
      "  OAI1   : 152\n",
      "  OAI2   : 176\n",
      "  inHouse: 24\n",
      "  Total  : 352\n"
     ]
    }
   ],
   "source": [
    "n_OAI1    = df_OAI1.describe()[\"fileName\"][\"count\"]\n",
    "n_OAI2    = df_OAI2.describe()[\"fileName\"][\"count\"]\n",
    "n_inHouse = df_inHouse.describe()[\"fileName\"][\"count\"]\n",
    "print(\"Number of dicom stacks: \")\n",
    "print(\"  OAI1   : \" + str(n_OAI1))\n",
    "print(\"  OAI2   : \" + str(n_OAI2))\n",
    "print(\"  inHouse: \" + str(n_inHouse))\n",
    "print(\"  Total  : \" + str(n_OAI1 + n_OAI2 + n_inHouse))"
   ]
  },
  {
   "cell_type": "markdown",
   "metadata": {},
   "source": [
    "### Q: How many *subjects* per dataset?"
   ]
  },
  {
   "cell_type": "code",
   "execution_count": 10,
   "metadata": {},
   "outputs": [
    {
     "name": "stdout",
     "output_type": "stream",
     "text": [
      "Number of subjects: \n",
      "  OAI1   : 19\n",
      "  OAI2   : 88\n",
      "  Total  : 107\n"
     ]
    }
   ],
   "source": [
    "q      = df_OAI1.groupby('PatientID').count()\n",
    "n_OAI1 = q.shape[0] # get number of rows\n",
    "q      = df_OAI2.groupby('PatientID').count()\n",
    "n_OAI2 = q.shape[0]\n",
    "# q      = df_inHouse.groupby('PatientID').count()  # The inHouse images were anonymized deleting also the PatientID,\n",
    "# n_inHouse = q.shape[0]                            # so they cannot be included in this count\n",
    "print(\"Number of subjects: \")\n",
    "print(\"  OAI1   : \" + str(n_OAI1))\n",
    "print(\"  OAI2   : \" + str(n_OAI2))\n",
    "print(\"  Total  : \" + str(n_OAI1 + n_OAI2))"
   ]
  },
  {
   "cell_type": "markdown",
   "metadata": {},
   "source": [
    "### Q: What is the in-plane resolution per protocol?"
   ]
  },
  {
   "cell_type": "code",
   "execution_count": 11,
   "metadata": {},
   "outputs": [
    {
     "data": {
      "text/plain": [
       "'OAI1'"
      ]
     },
     "metadata": {},
     "output_type": "display_data"
    },
    {
     "data": {
      "text/html": [
       "<div>\n",
       "<style scoped>\n",
       "    .dataframe tbody tr th:only-of-type {\n",
       "        vertical-align: middle;\n",
       "    }\n",
       "\n",
       "    .dataframe tbody tr th {\n",
       "        vertical-align: top;\n",
       "    }\n",
       "\n",
       "    .dataframe thead th {\n",
       "        text-align: right;\n",
       "    }\n",
       "</style>\n",
       "<table border=\"1\" class=\"dataframe\">\n",
       "  <thead>\n",
       "    <tr style=\"text-align: right;\">\n",
       "      <th></th>\n",
       "      <th>PixelSpacing</th>\n",
       "      <th>SeriesDescription</th>\n",
       "      <th>counts</th>\n",
       "    </tr>\n",
       "  </thead>\n",
       "  <tbody>\n",
       "    <tr>\n",
       "      <th>1</th>\n",
       "      <td>0.3125\\0.3125</td>\n",
       "      <td>SAG_T2_MAP_RIGHT</td>\n",
       "      <td>126</td>\n",
       "    </tr>\n",
       "    <tr>\n",
       "      <th>2</th>\n",
       "      <td>0.36458333333333\\0.36458333333333</td>\n",
       "      <td>SAG_3D_DESS_RIGHT</td>\n",
       "      <td>14</td>\n",
       "    </tr>\n",
       "    <tr>\n",
       "      <th>3</th>\n",
       "      <td>0.36458334326744\\0.36458334326744</td>\n",
       "      <td>SAG_3D_DESS_RIGHT</td>\n",
       "      <td>4</td>\n",
       "    </tr>\n",
       "    <tr>\n",
       "      <th>4</th>\n",
       "      <td>0.42708333333333\\0.42708333333333</td>\n",
       "      <td>SAG_3D_DESS_RIGHT</td>\n",
       "      <td>1</td>\n",
       "    </tr>\n",
       "    <tr>\n",
       "      <th>5</th>\n",
       "      <td>0.4296875\\0.4296875</td>\n",
       "      <td>SAG_T2_MAP_RIGHT</td>\n",
       "      <td>7</td>\n",
       "    </tr>\n",
       "  </tbody>\n",
       "</table>\n",
       "</div>"
      ],
      "text/plain": [
       "                         PixelSpacing   SeriesDescription  counts\n",
       "1                      0.3125\\0.3125     SAG_T2_MAP_RIGHT     126\n",
       "2  0.36458333333333\\0.36458333333333   SAG_3D_DESS_RIGHT       14\n",
       "3  0.36458334326744\\0.36458334326744   SAG_3D_DESS_RIGHT        4\n",
       "4  0.42708333333333\\0.42708333333333   SAG_3D_DESS_RIGHT        1\n",
       "5                0.4296875\\0.4296875     SAG_T2_MAP_RIGHT       7"
      ]
     },
     "metadata": {},
     "output_type": "display_data"
    },
    {
     "data": {
      "text/plain": [
       "'OAI2'"
      ]
     },
     "metadata": {},
     "output_type": "display_data"
    },
    {
     "data": {
      "text/html": [
       "<div>\n",
       "<style scoped>\n",
       "    .dataframe tbody tr th:only-of-type {\n",
       "        vertical-align: middle;\n",
       "    }\n",
       "\n",
       "    .dataframe tbody tr th {\n",
       "        vertical-align: top;\n",
       "    }\n",
       "\n",
       "    .dataframe thead th {\n",
       "        text-align: right;\n",
       "    }\n",
       "</style>\n",
       "<table border=\"1\" class=\"dataframe\">\n",
       "  <thead>\n",
       "    <tr style=\"text-align: right;\">\n",
       "      <th></th>\n",
       "      <th>PixelSpacing</th>\n",
       "      <th>SeriesDescription</th>\n",
       "      <th>counts</th>\n",
       "    </tr>\n",
       "  </thead>\n",
       "  <tbody>\n",
       "    <tr>\n",
       "      <th>1</th>\n",
       "      <td>0.36458333\\0.36458333</td>\n",
       "      <td>SAG_3D_DESS_RIGHT</td>\n",
       "      <td>90</td>\n",
       "    </tr>\n",
       "    <tr>\n",
       "      <th>2</th>\n",
       "      <td>0.36458333\\0.36458333</td>\n",
       "      <td>SAG_3D_DESS_LEFT</td>\n",
       "      <td>86</td>\n",
       "    </tr>\n",
       "  </tbody>\n",
       "</table>\n",
       "</div>"
      ],
      "text/plain": [
       "             PixelSpacing   SeriesDescription  counts\n",
       "1  0.36458333\\0.36458333   SAG_3D_DESS_RIGHT       90\n",
       "2  0.36458333\\0.36458333     SAG_3D_DESS_LEFT      86"
      ]
     },
     "metadata": {},
     "output_type": "display_data"
    },
    {
     "data": {
      "text/plain": [
       "'inHouse'"
      ]
     },
     "metadata": {},
     "output_type": "display_data"
    },
    {
     "data": {
      "text/html": [
       "<div>\n",
       "<style scoped>\n",
       "    .dataframe tbody tr th:only-of-type {\n",
       "        vertical-align: middle;\n",
       "    }\n",
       "\n",
       "    .dataframe tbody tr th {\n",
       "        vertical-align: top;\n",
       "    }\n",
       "\n",
       "    .dataframe thead th {\n",
       "        text-align: right;\n",
       "    }\n",
       "</style>\n",
       "<table border=\"1\" class=\"dataframe\">\n",
       "  <thead>\n",
       "    <tr style=\"text-align: right;\">\n",
       "      <th></th>\n",
       "      <th>PixelSpacing</th>\n",
       "      <th>SeriesDescription</th>\n",
       "      <th>counts</th>\n",
       "    </tr>\n",
       "  </thead>\n",
       "  <tbody>\n",
       "    <tr>\n",
       "      <th>1</th>\n",
       "      <td>0.3125\\0.3125</td>\n",
       "      <td>cubequant T1rho</td>\n",
       "      <td>16</td>\n",
       "    </tr>\n",
       "    <tr>\n",
       "      <th>2</th>\n",
       "      <td>0.3125\\0.3125</td>\n",
       "      <td>Sag DESS 3132 30 HiRes thk1p5 ARCx2</td>\n",
       "      <td>8</td>\n",
       "    </tr>\n",
       "  </tbody>\n",
       "</table>\n",
       "</div>"
      ],
      "text/plain": [
       "     PixelSpacing                     SeriesDescription  counts\n",
       "1  0.3125\\0.3125                       cubequant T1rho       16\n",
       "2  0.3125\\0.3125   Sag DESS 3132 30 HiRes thk1p5 ARCx2        8"
      ]
     },
     "metadata": {},
     "output_type": "display_data"
    }
   ],
   "source": [
    "for df_index in range (0,len(dfs)):\n",
    "    # query the dataframe\n",
    "    q = dfs[df_index].groupby('PixelSpacing')['SeriesDescription'].value_counts().reset_index(name='counts')\n",
    "    # start counting rows from 1\n",
    "    q.index = np.arange(1,len(q)+1) \n",
    "    # display dataframe name\n",
    "    display(dfs[df_index].name)\n",
    "    # display query output\n",
    "    display(q)"
   ]
  },
  {
   "cell_type": "markdown",
   "metadata": {},
   "source": [
    "### Q: What is the slice thickness per protocol?"
   ]
  },
  {
   "cell_type": "code",
   "execution_count": 12,
   "metadata": {},
   "outputs": [
    {
     "data": {
      "text/plain": [
       "'OAI1'"
      ]
     },
     "metadata": {},
     "output_type": "display_data"
    },
    {
     "data": {
      "text/html": [
       "<div>\n",
       "<style scoped>\n",
       "    .dataframe tbody tr th:only-of-type {\n",
       "        vertical-align: middle;\n",
       "    }\n",
       "\n",
       "    .dataframe tbody tr th {\n",
       "        vertical-align: top;\n",
       "    }\n",
       "\n",
       "    .dataframe thead th {\n",
       "        text-align: right;\n",
       "    }\n",
       "</style>\n",
       "<table border=\"1\" class=\"dataframe\">\n",
       "  <thead>\n",
       "    <tr style=\"text-align: right;\">\n",
       "      <th></th>\n",
       "      <th>SliceThickness</th>\n",
       "      <th>SeriesDescription</th>\n",
       "      <th>counts</th>\n",
       "    </tr>\n",
       "  </thead>\n",
       "  <tbody>\n",
       "    <tr>\n",
       "      <th>1</th>\n",
       "      <td>0.69999998807907</td>\n",
       "      <td>SAG_3D_DESS_RIGHT</td>\n",
       "      <td>18</td>\n",
       "    </tr>\n",
       "    <tr>\n",
       "      <th>2</th>\n",
       "      <td>0.75</td>\n",
       "      <td>SAG_3D_DESS_RIGHT</td>\n",
       "      <td>1</td>\n",
       "    </tr>\n",
       "    <tr>\n",
       "      <th>3</th>\n",
       "      <td>3</td>\n",
       "      <td>SAG_T2_MAP_RIGHT</td>\n",
       "      <td>119</td>\n",
       "    </tr>\n",
       "    <tr>\n",
       "      <th>4</th>\n",
       "      <td>3.0</td>\n",
       "      <td>SAG_T2_MAP_RIGHT</td>\n",
       "      <td>7</td>\n",
       "    </tr>\n",
       "    <tr>\n",
       "      <th>5</th>\n",
       "      <td>3.5</td>\n",
       "      <td>SAG_T2_MAP_RIGHT</td>\n",
       "      <td>7</td>\n",
       "    </tr>\n",
       "  </tbody>\n",
       "</table>\n",
       "</div>"
      ],
      "text/plain": [
       "     SliceThickness   SeriesDescription  counts\n",
       "1  0.69999998807907  SAG_3D_DESS_RIGHT       18\n",
       "2              0.75  SAG_3D_DESS_RIGHT        1\n",
       "3                3     SAG_T2_MAP_RIGHT     119\n",
       "4              3.0     SAG_T2_MAP_RIGHT       7\n",
       "5              3.5     SAG_T2_MAP_RIGHT       7"
      ]
     },
     "metadata": {},
     "output_type": "display_data"
    },
    {
     "data": {
      "text/plain": [
       "'OAI2'"
      ]
     },
     "metadata": {},
     "output_type": "display_data"
    },
    {
     "data": {
      "text/html": [
       "<div>\n",
       "<style scoped>\n",
       "    .dataframe tbody tr th:only-of-type {\n",
       "        vertical-align: middle;\n",
       "    }\n",
       "\n",
       "    .dataframe tbody tr th {\n",
       "        vertical-align: top;\n",
       "    }\n",
       "\n",
       "    .dataframe thead th {\n",
       "        text-align: right;\n",
       "    }\n",
       "</style>\n",
       "<table border=\"1\" class=\"dataframe\">\n",
       "  <thead>\n",
       "    <tr style=\"text-align: right;\">\n",
       "      <th></th>\n",
       "      <th>SliceThickness</th>\n",
       "      <th>SeriesDescription</th>\n",
       "      <th>counts</th>\n",
       "    </tr>\n",
       "  </thead>\n",
       "  <tbody>\n",
       "    <tr>\n",
       "      <th>1</th>\n",
       "      <td>0.69999999</td>\n",
       "      <td>SAG_3D_DESS_RIGHT</td>\n",
       "      <td>90</td>\n",
       "    </tr>\n",
       "    <tr>\n",
       "      <th>2</th>\n",
       "      <td>0.69999999</td>\n",
       "      <td>SAG_3D_DESS_LEFT</td>\n",
       "      <td>86</td>\n",
       "    </tr>\n",
       "  </tbody>\n",
       "</table>\n",
       "</div>"
      ],
      "text/plain": [
       "  SliceThickness   SeriesDescription  counts\n",
       "1     0.69999999  SAG_3D_DESS_RIGHT       90\n",
       "2     0.69999999    SAG_3D_DESS_LEFT      86"
      ]
     },
     "metadata": {},
     "output_type": "display_data"
    },
    {
     "data": {
      "text/plain": [
       "'inHouse'"
      ]
     },
     "metadata": {},
     "output_type": "display_data"
    },
    {
     "data": {
      "text/html": [
       "<div>\n",
       "<style scoped>\n",
       "    .dataframe tbody tr th:only-of-type {\n",
       "        vertical-align: middle;\n",
       "    }\n",
       "\n",
       "    .dataframe tbody tr th {\n",
       "        vertical-align: top;\n",
       "    }\n",
       "\n",
       "    .dataframe thead th {\n",
       "        text-align: right;\n",
       "    }\n",
       "</style>\n",
       "<table border=\"1\" class=\"dataframe\">\n",
       "  <thead>\n",
       "    <tr style=\"text-align: right;\">\n",
       "      <th></th>\n",
       "      <th>SliceThickness</th>\n",
       "      <th>SeriesDescription</th>\n",
       "      <th>counts</th>\n",
       "    </tr>\n",
       "  </thead>\n",
       "  <tbody>\n",
       "    <tr>\n",
       "      <th>1</th>\n",
       "      <td>1.5</td>\n",
       "      <td>Sag DESS 3132 30 HiRes thk1p5 ARCx2</td>\n",
       "      <td>8</td>\n",
       "    </tr>\n",
       "    <tr>\n",
       "      <th>2</th>\n",
       "      <td>3</td>\n",
       "      <td>cubequant T1rho</td>\n",
       "      <td>16</td>\n",
       "    </tr>\n",
       "  </tbody>\n",
       "</table>\n",
       "</div>"
      ],
      "text/plain": [
       "  SliceThickness                     SeriesDescription  counts\n",
       "1           1.5   Sag DESS 3132 30 HiRes thk1p5 ARCx2        8\n",
       "2             3                       cubequant T1rho       16"
      ]
     },
     "metadata": {},
     "output_type": "display_data"
    }
   ],
   "source": [
    "for df_index in range (0,len(dfs)):\n",
    "    # query the dataframe\n",
    "    q = dfs[df_index].groupby('SliceThickness')['SeriesDescription'].value_counts().reset_index(name='counts')\n",
    "    # start counting rows from 1\n",
    "    q.index = np.arange(1,len(q)+1) \n",
    "    # display dataframe name\n",
    "    display(dfs[df_index].name)\n",
    "    # display query output\n",
    "    display(q)"
   ]
  },
  {
   "cell_type": "markdown",
   "metadata": {},
   "source": [
    "### Q: What is the echo time? "
   ]
  },
  {
   "cell_type": "code",
   "execution_count": 13,
   "metadata": {},
   "outputs": [
    {
     "data": {
      "text/plain": [
       "'OAI1'"
      ]
     },
     "metadata": {},
     "output_type": "display_data"
    },
    {
     "data": {
      "text/html": [
       "<div>\n",
       "<style scoped>\n",
       "    .dataframe tbody tr th:only-of-type {\n",
       "        vertical-align: middle;\n",
       "    }\n",
       "\n",
       "    .dataframe tbody tr th {\n",
       "        vertical-align: top;\n",
       "    }\n",
       "\n",
       "    .dataframe thead th {\n",
       "        text-align: right;\n",
       "    }\n",
       "</style>\n",
       "<table border=\"1\" class=\"dataframe\">\n",
       "  <thead>\n",
       "    <tr style=\"text-align: right;\">\n",
       "      <th></th>\n",
       "      <th>EchoTime</th>\n",
       "      <th>SeriesDescription</th>\n",
       "      <th>counts</th>\n",
       "    </tr>\n",
       "  </thead>\n",
       "  <tbody>\n",
       "    <tr>\n",
       "      <th>1</th>\n",
       "      <td>10</td>\n",
       "      <td>SAG_T2_MAP_RIGHT</td>\n",
       "      <td>21</td>\n",
       "    </tr>\n",
       "    <tr>\n",
       "      <th>2</th>\n",
       "      <td>10.0</td>\n",
       "      <td>SAG_T2_MAP_RIGHT</td>\n",
       "      <td>2</td>\n",
       "    </tr>\n",
       "    <tr>\n",
       "      <th>3</th>\n",
       "      <td>20</td>\n",
       "      <td>SAG_T2_MAP_RIGHT</td>\n",
       "      <td>18</td>\n",
       "    </tr>\n",
       "    <tr>\n",
       "      <th>4</th>\n",
       "      <td>20.0</td>\n",
       "      <td>SAG_T2_MAP_RIGHT</td>\n",
       "      <td>1</td>\n",
       "    </tr>\n",
       "    <tr>\n",
       "      <th>5</th>\n",
       "      <td>30</td>\n",
       "      <td>SAG_T2_MAP_RIGHT</td>\n",
       "      <td>18</td>\n",
       "    </tr>\n",
       "    <tr>\n",
       "      <th>6</th>\n",
       "      <td>30.0</td>\n",
       "      <td>SAG_T2_MAP_RIGHT</td>\n",
       "      <td>1</td>\n",
       "    </tr>\n",
       "    <tr>\n",
       "      <th>7</th>\n",
       "      <td>4.71</td>\n",
       "      <td>SAG_3D_DESS_RIGHT</td>\n",
       "      <td>15</td>\n",
       "    </tr>\n",
       "    <tr>\n",
       "      <th>8</th>\n",
       "      <td>4.72</td>\n",
       "      <td>SAG_3D_DESS_RIGHT</td>\n",
       "      <td>4</td>\n",
       "    </tr>\n",
       "    <tr>\n",
       "      <th>9</th>\n",
       "      <td>40</td>\n",
       "      <td>SAG_T2_MAP_RIGHT</td>\n",
       "      <td>18</td>\n",
       "    </tr>\n",
       "    <tr>\n",
       "      <th>10</th>\n",
       "      <td>40.0</td>\n",
       "      <td>SAG_T2_MAP_RIGHT</td>\n",
       "      <td>1</td>\n",
       "    </tr>\n",
       "    <tr>\n",
       "      <th>11</th>\n",
       "      <td>50</td>\n",
       "      <td>SAG_T2_MAP_RIGHT</td>\n",
       "      <td>18</td>\n",
       "    </tr>\n",
       "    <tr>\n",
       "      <th>12</th>\n",
       "      <td>50.0</td>\n",
       "      <td>SAG_T2_MAP_RIGHT</td>\n",
       "      <td>1</td>\n",
       "    </tr>\n",
       "    <tr>\n",
       "      <th>13</th>\n",
       "      <td>60</td>\n",
       "      <td>SAG_T2_MAP_RIGHT</td>\n",
       "      <td>18</td>\n",
       "    </tr>\n",
       "    <tr>\n",
       "      <th>14</th>\n",
       "      <td>60.0</td>\n",
       "      <td>SAG_T2_MAP_RIGHT</td>\n",
       "      <td>1</td>\n",
       "    </tr>\n",
       "    <tr>\n",
       "      <th>15</th>\n",
       "      <td>70</td>\n",
       "      <td>SAG_T2_MAP_RIGHT</td>\n",
       "      <td>15</td>\n",
       "    </tr>\n",
       "  </tbody>\n",
       "</table>\n",
       "</div>"
      ],
      "text/plain": [
       "   EchoTime   SeriesDescription  counts\n",
       "1        10    SAG_T2_MAP_RIGHT      21\n",
       "2      10.0    SAG_T2_MAP_RIGHT       2\n",
       "3        20    SAG_T2_MAP_RIGHT      18\n",
       "4      20.0    SAG_T2_MAP_RIGHT       1\n",
       "5        30    SAG_T2_MAP_RIGHT      18\n",
       "6      30.0    SAG_T2_MAP_RIGHT       1\n",
       "7      4.71  SAG_3D_DESS_RIGHT       15\n",
       "8      4.72  SAG_3D_DESS_RIGHT        4\n",
       "9        40    SAG_T2_MAP_RIGHT      18\n",
       "10     40.0    SAG_T2_MAP_RIGHT       1\n",
       "11       50    SAG_T2_MAP_RIGHT      18\n",
       "12     50.0    SAG_T2_MAP_RIGHT       1\n",
       "13       60    SAG_T2_MAP_RIGHT      18\n",
       "14     60.0    SAG_T2_MAP_RIGHT       1\n",
       "15       70    SAG_T2_MAP_RIGHT      15"
      ]
     },
     "metadata": {},
     "output_type": "display_data"
    },
    {
     "data": {
      "text/plain": [
       "'OAI2'"
      ]
     },
     "metadata": {},
     "output_type": "display_data"
    },
    {
     "data": {
      "text/html": [
       "<div>\n",
       "<style scoped>\n",
       "    .dataframe tbody tr th:only-of-type {\n",
       "        vertical-align: middle;\n",
       "    }\n",
       "\n",
       "    .dataframe tbody tr th {\n",
       "        vertical-align: top;\n",
       "    }\n",
       "\n",
       "    .dataframe thead th {\n",
       "        text-align: right;\n",
       "    }\n",
       "</style>\n",
       "<table border=\"1\" class=\"dataframe\">\n",
       "  <thead>\n",
       "    <tr style=\"text-align: right;\">\n",
       "      <th></th>\n",
       "      <th>EchoTime</th>\n",
       "      <th>SeriesDescription</th>\n",
       "      <th>counts</th>\n",
       "    </tr>\n",
       "  </thead>\n",
       "  <tbody>\n",
       "    <tr>\n",
       "      <th>1</th>\n",
       "      <td>4.71</td>\n",
       "      <td>SAG_3D_DESS_RIGHT</td>\n",
       "      <td>90</td>\n",
       "    </tr>\n",
       "    <tr>\n",
       "      <th>2</th>\n",
       "      <td>4.71</td>\n",
       "      <td>SAG_3D_DESS_LEFT</td>\n",
       "      <td>86</td>\n",
       "    </tr>\n",
       "  </tbody>\n",
       "</table>\n",
       "</div>"
      ],
      "text/plain": [
       "  EchoTime   SeriesDescription  counts\n",
       "1     4.71  SAG_3D_DESS_RIGHT       90\n",
       "2     4.71    SAG_3D_DESS_LEFT      86"
      ]
     },
     "metadata": {},
     "output_type": "display_data"
    },
    {
     "data": {
      "text/plain": [
       "'inHouse'"
      ]
     },
     "metadata": {},
     "output_type": "display_data"
    },
    {
     "data": {
      "text/html": [
       "<div>\n",
       "<style scoped>\n",
       "    .dataframe tbody tr th:only-of-type {\n",
       "        vertical-align: middle;\n",
       "    }\n",
       "\n",
       "    .dataframe tbody tr th {\n",
       "        vertical-align: top;\n",
       "    }\n",
       "\n",
       "    .dataframe thead th {\n",
       "        text-align: right;\n",
       "    }\n",
       "</style>\n",
       "<table border=\"1\" class=\"dataframe\">\n",
       "  <thead>\n",
       "    <tr style=\"text-align: right;\">\n",
       "      <th></th>\n",
       "      <th>EchoTime</th>\n",
       "      <th>SeriesDescription</th>\n",
       "      <th>counts</th>\n",
       "    </tr>\n",
       "  </thead>\n",
       "  <tbody>\n",
       "    <tr>\n",
       "      <th>1</th>\n",
       "      <td>1</td>\n",
       "      <td>cubequant T1rho</td>\n",
       "      <td>4</td>\n",
       "    </tr>\n",
       "    <tr>\n",
       "      <th>2</th>\n",
       "      <td>10</td>\n",
       "      <td>cubequant T1rho</td>\n",
       "      <td>4</td>\n",
       "    </tr>\n",
       "    <tr>\n",
       "      <th>3</th>\n",
       "      <td>30</td>\n",
       "      <td>cubequant T1rho</td>\n",
       "      <td>4</td>\n",
       "    </tr>\n",
       "    <tr>\n",
       "      <th>4</th>\n",
       "      <td>42.52</td>\n",
       "      <td>Sag DESS 3132 30 HiRes thk1p5 ARCx2</td>\n",
       "      <td>4</td>\n",
       "    </tr>\n",
       "    <tr>\n",
       "      <th>5</th>\n",
       "      <td>60</td>\n",
       "      <td>cubequant T1rho</td>\n",
       "      <td>4</td>\n",
       "    </tr>\n",
       "    <tr>\n",
       "      <th>6</th>\n",
       "      <td>7.48</td>\n",
       "      <td>Sag DESS 3132 30 HiRes thk1p5 ARCx2</td>\n",
       "      <td>4</td>\n",
       "    </tr>\n",
       "  </tbody>\n",
       "</table>\n",
       "</div>"
      ],
      "text/plain": [
       "  EchoTime                     SeriesDescription  counts\n",
       "1       1                       cubequant T1rho        4\n",
       "2       10                      cubequant T1rho        4\n",
       "3       30                      cubequant T1rho        4\n",
       "4   42.52   Sag DESS 3132 30 HiRes thk1p5 ARCx2        4\n",
       "5       60                      cubequant T1rho        4\n",
       "6     7.48  Sag DESS 3132 30 HiRes thk1p5 ARCx2        4"
      ]
     },
     "metadata": {},
     "output_type": "display_data"
    }
   ],
   "source": [
    "for df_index in range (0,len(dfs)):\n",
    "    # query the dataframe\n",
    "    q = dfs[df_index].groupby('EchoTime')['SeriesDescription'].value_counts().reset_index(name='counts')\n",
    "    # start counting rows from 1\n",
    "    q.index = np.arange(1,len(q)+1) \n",
    "    # display dataframe name\n",
    "    display(dfs[df_index].name)\n",
    "    # display query output\n",
    "    display(q)"
   ]
  },
  {
   "cell_type": "markdown",
   "metadata": {},
   "source": [
    "### Q: What is the repetition time? "
   ]
  },
  {
   "cell_type": "code",
   "execution_count": 14,
   "metadata": {},
   "outputs": [
    {
     "data": {
      "text/plain": [
       "'OAI1'"
      ]
     },
     "metadata": {},
     "output_type": "display_data"
    },
    {
     "data": {
      "text/html": [
       "<div>\n",
       "<style scoped>\n",
       "    .dataframe tbody tr th:only-of-type {\n",
       "        vertical-align: middle;\n",
       "    }\n",
       "\n",
       "    .dataframe tbody tr th {\n",
       "        vertical-align: top;\n",
       "    }\n",
       "\n",
       "    .dataframe thead th {\n",
       "        text-align: right;\n",
       "    }\n",
       "</style>\n",
       "<table border=\"1\" class=\"dataframe\">\n",
       "  <thead>\n",
       "    <tr style=\"text-align: right;\">\n",
       "      <th></th>\n",
       "      <th>RepetitionTime</th>\n",
       "      <th>SeriesDescription</th>\n",
       "      <th>counts</th>\n",
       "    </tr>\n",
       "  </thead>\n",
       "  <tbody>\n",
       "    <tr>\n",
       "      <th>1</th>\n",
       "      <td>16.32</td>\n",
       "      <td>SAG_3D_DESS_RIGHT</td>\n",
       "      <td>19</td>\n",
       "    </tr>\n",
       "    <tr>\n",
       "      <th>2</th>\n",
       "      <td>2700</td>\n",
       "      <td>SAG_T2_MAP_RIGHT</td>\n",
       "      <td>119</td>\n",
       "    </tr>\n",
       "    <tr>\n",
       "      <th>3</th>\n",
       "      <td>2700.0</td>\n",
       "      <td>SAG_T2_MAP_RIGHT</td>\n",
       "      <td>7</td>\n",
       "    </tr>\n",
       "    <tr>\n",
       "      <th>4</th>\n",
       "      <td>2900</td>\n",
       "      <td>SAG_T2_MAP_RIGHT</td>\n",
       "      <td>7</td>\n",
       "    </tr>\n",
       "  </tbody>\n",
       "</table>\n",
       "</div>"
      ],
      "text/plain": [
       "  RepetitionTime   SeriesDescription  counts\n",
       "1         16.32   SAG_3D_DESS_RIGHT       19\n",
       "2           2700    SAG_T2_MAP_RIGHT     119\n",
       "3         2700.0    SAG_T2_MAP_RIGHT       7\n",
       "4           2900    SAG_T2_MAP_RIGHT       7"
      ]
     },
     "metadata": {},
     "output_type": "display_data"
    },
    {
     "data": {
      "text/plain": [
       "'OAI2'"
      ]
     },
     "metadata": {},
     "output_type": "display_data"
    },
    {
     "data": {
      "text/html": [
       "<div>\n",
       "<style scoped>\n",
       "    .dataframe tbody tr th:only-of-type {\n",
       "        vertical-align: middle;\n",
       "    }\n",
       "\n",
       "    .dataframe tbody tr th {\n",
       "        vertical-align: top;\n",
       "    }\n",
       "\n",
       "    .dataframe thead th {\n",
       "        text-align: right;\n",
       "    }\n",
       "</style>\n",
       "<table border=\"1\" class=\"dataframe\">\n",
       "  <thead>\n",
       "    <tr style=\"text-align: right;\">\n",
       "      <th></th>\n",
       "      <th>RepetitionTime</th>\n",
       "      <th>SeriesDescription</th>\n",
       "      <th>counts</th>\n",
       "    </tr>\n",
       "  </thead>\n",
       "  <tbody>\n",
       "    <tr>\n",
       "      <th>1</th>\n",
       "      <td>16.32</td>\n",
       "      <td>SAG_3D_DESS_RIGHT</td>\n",
       "      <td>90</td>\n",
       "    </tr>\n",
       "    <tr>\n",
       "      <th>2</th>\n",
       "      <td>16.32</td>\n",
       "      <td>SAG_3D_DESS_LEFT</td>\n",
       "      <td>86</td>\n",
       "    </tr>\n",
       "  </tbody>\n",
       "</table>\n",
       "</div>"
      ],
      "text/plain": [
       "  RepetitionTime   SeriesDescription  counts\n",
       "1         16.32   SAG_3D_DESS_RIGHT       90\n",
       "2         16.32     SAG_3D_DESS_LEFT      86"
      ]
     },
     "metadata": {},
     "output_type": "display_data"
    },
    {
     "data": {
      "text/plain": [
       "'inHouse'"
      ]
     },
     "metadata": {},
     "output_type": "display_data"
    },
    {
     "data": {
      "text/html": [
       "<div>\n",
       "<style scoped>\n",
       "    .dataframe tbody tr th:only-of-type {\n",
       "        vertical-align: middle;\n",
       "    }\n",
       "\n",
       "    .dataframe tbody tr th {\n",
       "        vertical-align: top;\n",
       "    }\n",
       "\n",
       "    .dataframe thead th {\n",
       "        text-align: right;\n",
       "    }\n",
       "</style>\n",
       "<table border=\"1\" class=\"dataframe\">\n",
       "  <thead>\n",
       "    <tr style=\"text-align: right;\">\n",
       "      <th></th>\n",
       "      <th>RepetitionTime</th>\n",
       "      <th>SeriesDescription</th>\n",
       "      <th>counts</th>\n",
       "    </tr>\n",
       "  </thead>\n",
       "  <tbody>\n",
       "    <tr>\n",
       "      <th>1</th>\n",
       "      <td>1301</td>\n",
       "      <td>cubequant T1rho</td>\n",
       "      <td>4</td>\n",
       "    </tr>\n",
       "    <tr>\n",
       "      <th>2</th>\n",
       "      <td>1304</td>\n",
       "      <td>cubequant T1rho</td>\n",
       "      <td>8</td>\n",
       "    </tr>\n",
       "    <tr>\n",
       "      <th>3</th>\n",
       "      <td>1306</td>\n",
       "      <td>cubequant T1rho</td>\n",
       "      <td>4</td>\n",
       "    </tr>\n",
       "    <tr>\n",
       "      <th>4</th>\n",
       "      <td>25</td>\n",
       "      <td>Sag DESS 3132 30 HiRes thk1p5 ARCx2</td>\n",
       "      <td>8</td>\n",
       "    </tr>\n",
       "  </tbody>\n",
       "</table>\n",
       "</div>"
      ],
      "text/plain": [
       "  RepetitionTime                     SeriesDescription  counts\n",
       "1           1301                      cubequant T1rho        4\n",
       "2           1304                      cubequant T1rho        8\n",
       "3           1306                      cubequant T1rho        4\n",
       "4             25  Sag DESS 3132 30 HiRes thk1p5 ARCx2        8"
      ]
     },
     "metadata": {},
     "output_type": "display_data"
    }
   ],
   "source": [
    "for df_index in range (0,len(dfs)):\n",
    "    # query the dataframe\n",
    "    q = dfs[df_index].groupby('RepetitionTime')['SeriesDescription'].value_counts().reset_index(name='counts')\n",
    "    # start counting rows from 1\n",
    "    q.index = np.arange(1,len(q)+1) \n",
    "    # display dataframe name\n",
    "    display(dfs[df_index].name)\n",
    "    # display query output\n",
    "    display(q)"
   ]
  },
  {
   "cell_type": "markdown",
   "metadata": {},
   "source": [
    "### Q: What is the flip angle?"
   ]
  },
  {
   "cell_type": "code",
   "execution_count": 15,
   "metadata": {},
   "outputs": [
    {
     "data": {
      "text/plain": [
       "'OAI1'"
      ]
     },
     "metadata": {},
     "output_type": "display_data"
    },
    {
     "data": {
      "text/html": [
       "<div>\n",
       "<style scoped>\n",
       "    .dataframe tbody tr th:only-of-type {\n",
       "        vertical-align: middle;\n",
       "    }\n",
       "\n",
       "    .dataframe tbody tr th {\n",
       "        vertical-align: top;\n",
       "    }\n",
       "\n",
       "    .dataframe thead th {\n",
       "        text-align: right;\n",
       "    }\n",
       "</style>\n",
       "<table border=\"1\" class=\"dataframe\">\n",
       "  <thead>\n",
       "    <tr style=\"text-align: right;\">\n",
       "      <th></th>\n",
       "      <th>FlipAngle</th>\n",
       "      <th>SeriesDescription</th>\n",
       "      <th>counts</th>\n",
       "    </tr>\n",
       "  </thead>\n",
       "  <tbody>\n",
       "    <tr>\n",
       "      <th>1</th>\n",
       "      <td>180</td>\n",
       "      <td>SAG_T2_MAP_RIGHT</td>\n",
       "      <td>126</td>\n",
       "    </tr>\n",
       "    <tr>\n",
       "      <th>2</th>\n",
       "      <td>180.0</td>\n",
       "      <td>SAG_T2_MAP_RIGHT</td>\n",
       "      <td>7</td>\n",
       "    </tr>\n",
       "    <tr>\n",
       "      <th>3</th>\n",
       "      <td>25</td>\n",
       "      <td>SAG_3D_DESS_RIGHT</td>\n",
       "      <td>18</td>\n",
       "    </tr>\n",
       "    <tr>\n",
       "      <th>4</th>\n",
       "      <td>25.0</td>\n",
       "      <td>SAG_3D_DESS_RIGHT</td>\n",
       "      <td>1</td>\n",
       "    </tr>\n",
       "  </tbody>\n",
       "</table>\n",
       "</div>"
      ],
      "text/plain": [
       "  FlipAngle   SeriesDescription  counts\n",
       "1      180     SAG_T2_MAP_RIGHT     126\n",
       "2    180.0     SAG_T2_MAP_RIGHT       7\n",
       "3        25  SAG_3D_DESS_RIGHT       18\n",
       "4      25.0  SAG_3D_DESS_RIGHT        1"
      ]
     },
     "metadata": {},
     "output_type": "display_data"
    },
    {
     "data": {
      "text/plain": [
       "'OAI2'"
      ]
     },
     "metadata": {},
     "output_type": "display_data"
    },
    {
     "data": {
      "text/html": [
       "<div>\n",
       "<style scoped>\n",
       "    .dataframe tbody tr th:only-of-type {\n",
       "        vertical-align: middle;\n",
       "    }\n",
       "\n",
       "    .dataframe tbody tr th {\n",
       "        vertical-align: top;\n",
       "    }\n",
       "\n",
       "    .dataframe thead th {\n",
       "        text-align: right;\n",
       "    }\n",
       "</style>\n",
       "<table border=\"1\" class=\"dataframe\">\n",
       "  <thead>\n",
       "    <tr style=\"text-align: right;\">\n",
       "      <th></th>\n",
       "      <th>FlipAngle</th>\n",
       "      <th>SeriesDescription</th>\n",
       "      <th>counts</th>\n",
       "    </tr>\n",
       "  </thead>\n",
       "  <tbody>\n",
       "    <tr>\n",
       "      <th>1</th>\n",
       "      <td>25</td>\n",
       "      <td>SAG_3D_DESS_RIGHT</td>\n",
       "      <td>90</td>\n",
       "    </tr>\n",
       "    <tr>\n",
       "      <th>2</th>\n",
       "      <td>25</td>\n",
       "      <td>SAG_3D_DESS_LEFT</td>\n",
       "      <td>86</td>\n",
       "    </tr>\n",
       "  </tbody>\n",
       "</table>\n",
       "</div>"
      ],
      "text/plain": [
       "  FlipAngle   SeriesDescription  counts\n",
       "1        25  SAG_3D_DESS_RIGHT       90\n",
       "2        25    SAG_3D_DESS_LEFT      86"
      ]
     },
     "metadata": {},
     "output_type": "display_data"
    },
    {
     "data": {
      "text/plain": [
       "'inHouse'"
      ]
     },
     "metadata": {},
     "output_type": "display_data"
    },
    {
     "data": {
      "text/html": [
       "<div>\n",
       "<style scoped>\n",
       "    .dataframe tbody tr th:only-of-type {\n",
       "        vertical-align: middle;\n",
       "    }\n",
       "\n",
       "    .dataframe tbody tr th {\n",
       "        vertical-align: top;\n",
       "    }\n",
       "\n",
       "    .dataframe thead th {\n",
       "        text-align: right;\n",
       "    }\n",
       "</style>\n",
       "<table border=\"1\" class=\"dataframe\">\n",
       "  <thead>\n",
       "    <tr style=\"text-align: right;\">\n",
       "      <th></th>\n",
       "      <th>FlipAngle</th>\n",
       "      <th>SeriesDescription</th>\n",
       "      <th>counts</th>\n",
       "    </tr>\n",
       "  </thead>\n",
       "  <tbody>\n",
       "    <tr>\n",
       "      <th>1</th>\n",
       "      <td>30</td>\n",
       "      <td>Sag DESS 3132 30 HiRes thk1p5 ARCx2</td>\n",
       "      <td>8</td>\n",
       "    </tr>\n",
       "    <tr>\n",
       "      <th>2</th>\n",
       "      <td>90</td>\n",
       "      <td>cubequant T1rho</td>\n",
       "      <td>16</td>\n",
       "    </tr>\n",
       "  </tbody>\n",
       "</table>\n",
       "</div>"
      ],
      "text/plain": [
       "  FlipAngle                     SeriesDescription  counts\n",
       "1        30  Sag DESS 3132 30 HiRes thk1p5 ARCx2        8\n",
       "2        90                      cubequant T1rho       16"
      ]
     },
     "metadata": {},
     "output_type": "display_data"
    }
   ],
   "source": [
    "for df_index in range (0,len(dfs)):\n",
    "    # query the dataframe\n",
    "    q = dfs[df_index].groupby('FlipAngle')['SeriesDescription'].value_counts().reset_index(name='counts')\n",
    "    # start counting rows from 1\n",
    "    q.index = np.arange(1,len(q)+1) \n",
    "    # display dataframe name\n",
    "    display(dfs[df_index].name)\n",
    "    # display query output\n",
    "    display(q)"
   ]
  },
  {
   "cell_type": "markdown",
   "metadata": {},
   "source": [
    "### Dependencies"
   ]
  },
  {
   "cell_type": "code",
   "execution_count": 16,
   "metadata": {},
   "outputs": [
    {
     "name": "stdout",
     "output_type": "stream",
     "text": [
      "CPython 3.7.1\n",
      "IPython 6.5.0\n",
      "\n",
      "numpy 1.15.1\n",
      "pandas 0.23.4\n",
      "\n",
      "compiler   : Clang 4.0.1 (tags/RELEASE_401/final)\n",
      "system     : Darwin\n",
      "release    : 17.7.0\n",
      "machine    : x86_64\n",
      "processor  : i386\n",
      "CPU cores  : 4\n",
      "interpreter: 64bit\n"
     ]
    }
   ],
   "source": [
    "%load_ext watermark\n",
    "%watermark -v -m -p numpy,pandas"
   ]
  }
 ],
 "metadata": {
  "kernelspec": {
   "display_name": "Python 3",
   "language": "python",
   "name": "python3"
  },
  "language_info": {
   "codemirror_mode": {
    "name": "ipython",
    "version": 3
   },
   "file_extension": ".py",
   "mimetype": "text/x-python",
   "name": "python",
   "nbconvert_exporter": "python",
   "pygments_lexer": "ipython3",
   "version": "3.7.4"
  }
 },
 "nbformat": 4,
 "nbformat_minor": 4
}
