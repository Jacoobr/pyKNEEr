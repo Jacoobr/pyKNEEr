{
 "cells": [
  {
   "cell_type": "markdown",
   "metadata": {},
   "source": [
    "## [pyKNEEr](https://github.com/sbonaretti/pyKNEEr)"
   ]
  },
  {
   "cell_type": "markdown",
   "metadata": {},
   "source": [
    "# [Segmentation quality](https://sbonaretti.github.io/pyKNEEr/segmentation.html)\n",
    "Content under Creative Commons Attribution license CC-BY-NC-SA 4.0   \n",
    "Code under GNU-GPL v3 License  \n",
    "© 2019 Serena Bonaretti\n",
    "---"
   ]
  },
  {
   "cell_type": "markdown",
   "metadata": {},
   "source": [
    "Segmentation quality is evaluated using 3 overlap agreement measures [1]:  \n",
    "- Dice coefficient  \n",
    "- Jaccard coefficient \n",
    "- Volume similarity  \n",
    "\n",
    "and one measure of surface distance"
   ]
  },
  {
   "cell_type": "markdown",
   "metadata": {},
   "source": [
    "---"
   ]
  },
  {
   "cell_type": "markdown",
   "metadata": {},
   "source": [
    "*Automatic data download for the reproducibility of this notebook:*\n",
    "- Download input images from Zenodo and image file list from GitHub:"
   ]
  },
  {
   "cell_type": "code",
   "execution_count": null,
   "metadata": {},
   "outputs": [],
   "source": [
    "import os\n",
    "import wget\n",
    "from zipfile import ZipFile "
   ]
  },
  {
   "cell_type": "code",
   "execution_count": null,
   "metadata": {},
   "outputs": [],
   "source": [
    "# local folder  \n",
    "local_folder_name  = \"./OAI1/\"\n",
    "# Zenodo variables\n",
    "input_URL          = \"https://zenodo.org/record/2583184/files/\"\n",
    "zipped_folder_name = \"OAI1_segmented.zip\" \n",
    "zipped_gt_name     = \"OAI1_segmented_QM.zip\"\n",
    "local_gt_name      = \"/segmented_QM\"\n",
    "# GitHub variables\n",
    "raw_url            = \"https://raw.githubusercontent.com/sbonaretti/pyKNEEr/master/publication/data/\"\n",
    "input_file_name    = \"image_list_segmentation_quality_OAI1_DESS.txt\""
   ]
  },
  {
   "cell_type": "code",
   "execution_count": null,
   "metadata": {},
   "outputs": [],
   "source": [
    "# create local folder for dataset\n",
    "if not os.path.isdir(local_folder_name):\n",
    "    os.mkdir(local_folder_name)\n",
    "    print (\"folder \" + local_folder_name + \" created\")"
   ]
  },
  {
   "cell_type": "code",
   "execution_count": null,
   "metadata": {},
   "outputs": [],
   "source": [
    "# download zipped folder from Zenodo\n",
    "wget.download(input_URL + zipped_folder_name, local_folder_name + zipped_folder_name) "
   ]
  },
  {
   "cell_type": "code",
   "execution_count": null,
   "metadata": {},
   "outputs": [],
   "source": [
    "# download ground truth images\n",
    "wget.download(input_URL + zipped_gt_name, local_folder_name + zipped_gt_name)"
   ]
  },
  {
   "cell_type": "code",
   "execution_count": null,
   "metadata": {},
   "outputs": [],
   "source": [
    "# unzip image folder\n",
    "with ZipFile(local_folder_name + zipped_folder_name, 'r') as zip: \n",
    "    zip.extractall(local_folder_name) "
   ]
  },
  {
   "cell_type": "code",
   "execution_count": null,
   "metadata": {},
   "outputs": [],
   "source": [
    "# unzip ground truth images\n",
    "with ZipFile(local_folder_name + zipped_gt_name, 'r') as zip: \n",
    "    zip.extractall(local_folder_name + local_gt_name) "
   ]
  },
  {
   "cell_type": "code",
   "execution_count": null,
   "metadata": {},
   "outputs": [],
   "source": [
    "# download input file from GitHub\n",
    "wget.download(raw_url + input_file_name, \"./\" + input_file_name)"
   ]
  },
  {
   "cell_type": "markdown",
   "metadata": {},
   "source": [
    "---"
   ]
  },
  {
   "cell_type": "markdown",
   "metadata": {},
   "source": [
    "## Import packages"
   ]
  },
  {
   "cell_type": "code",
   "execution_count": 1,
   "metadata": {},
   "outputs": [],
   "source": [
    "%load_ext autoreload\n",
    "%autoreload 2"
   ]
  },
  {
   "cell_type": "code",
   "execution_count": 2,
   "metadata": {},
   "outputs": [],
   "source": [
    "from pykneer import pykneer_io                  as io\n",
    "from pykneer import segmentation_quality_for_nb as sq"
   ]
  },
  {
   "cell_type": "markdown",
   "metadata": {},
   "source": [
    "## Image information"
   ]
  },
  {
   "cell_type": "markdown",
   "metadata": {},
   "source": [
    "Input and output:   \n",
    "- `input_file_name` contains the list of the masks segmented using pyKNEEr and of ground truth masks\n",
    "- `output_file_name` contains the table of the overlap coefficients"
   ]
  },
  {
   "cell_type": "code",
   "execution_count": 3,
   "metadata": {},
   "outputs": [],
   "source": [
    "# input_file_name  = \"./image_list_segmentation_quality_OAI1_DESS.txt\" # commented out because downloaded from GitHub\n",
    "input_file_name            = \"/Volumes/SereHD/work/data_pyKNEEr/image_list_segmentation_quality_OAI1_DESS.txt\"\n",
    "output_file_name_overlap   = \"overlapCoeff_OAI1_DESS.csv\"\n",
    "output_file_name_distances = \"average_distances_OAI1_DESS.csv\""
   ]
  },
  {
   "cell_type": "markdown",
   "metadata": {},
   "source": [
    "#### Reading image data\n",
    "- `image_data` is a dictionary (or struct), where each cell corresponds to an image. For each image, information such as paths and file names are stored  "
   ]
  },
  {
   "cell_type": "code",
   "execution_count": 4,
   "metadata": {},
   "outputs": [
    {
     "name": "stdout",
     "output_type": "stream",
     "text": [
      "-> image information loaded\n"
     ]
    }
   ],
   "source": [
    "image_data = io.load_image_data_segmentation_quality(input_file_name)"
   ]
  },
  {
   "cell_type": "markdown",
   "metadata": {},
   "source": [
    "---"
   ]
  },
  {
   "cell_type": "markdown",
   "metadata": {},
   "source": [
    "## Calculating overlap coefficients"
   ]
  },
  {
   "cell_type": "code",
   "execution_count": 5,
   "metadata": {},
   "outputs": [],
   "source": [
    "dice_coeff, jacc_coeff, vol_simil = sq.compute_overlap(image_data)"
   ]
  },
  {
   "cell_type": "markdown",
   "metadata": {},
   "source": [
    "## Visualizing overlap coefficients\n",
    "\n",
    "The values of overlap coefficient are visualized as:\n",
    "- a GRAPH, to visually observe the trend of the dataset \n",
    "- a TABLE, to observe the numerical values"
   ]
  },
  {
   "cell_type": "markdown",
   "metadata": {},
   "source": [
    "#### GRAPH: Dots represent the coefficient value"
   ]
  },
  {
   "cell_type": "code",
   "execution_count": 6,
   "metadata": {},
   "outputs": [
    {
     "data": {
      "image/png": "[encoded data removed]",
      "text/plain": [
       "<Figure size 1296x576 with 3 Axes>"
      ]
     },
     "metadata": {
      "needs_background": "light"
     },
     "output_type": "display_data"
    }
   ],
   "source": [
    "sq.overlap_coeff_graph(image_data, dice_coeff, jacc_coeff, vol_simil)"
   ]
  },
  {
   "cell_type": "markdown",
   "metadata": {},
   "source": [
    "#### TABLE: Overlap coefficients per image\n",
    "The table is saved as a .csv file for subsequent analyisis"
   ]
  },
  {
   "cell_type": "code",
   "execution_count": 7,
   "metadata": {},
   "outputs": [
    {
     "name": "stdout",
     "output_type": "stream",
     "text": [
      "Table saved as: overlapCoeff_OAI1_DESS.csv\n"
     ]
    },
    {
     "data": {
      "text/html": [
       "<div>\n",
       "<style scoped>\n",
       "    .dataframe tbody tr th:only-of-type {\n",
       "        vertical-align: middle;\n",
       "    }\n",
       "\n",
       "    .dataframe tbody tr th {\n",
       "        vertical-align: top;\n",
       "    }\n",
       "\n",
       "    .dataframe thead th {\n",
       "        text-align: right;\n",
       "    }\n",
       "</style>\n",
       "<table border=\"1\" class=\"dataframe\">\n",
       "  <thead>\n",
       "    <tr style=\"text-align: right;\">\n",
       "      <th></th>\n",
       "      <th>subjects</th>\n",
       "      <th>dice_coeff</th>\n",
       "      <th>jaccard_coeff</th>\n",
       "      <th>volume_similarity</th>\n",
       "    </tr>\n",
       "  </thead>\n",
       "  <tbody>\n",
       "    <tr>\n",
       "      <td>1</td>\n",
       "      <td>YR04_01_DESS_prep_fc</td>\n",
       "      <td>0.88</td>\n",
       "      <td>0.78</td>\n",
       "      <td>-0.05</td>\n",
       "    </tr>\n",
       "    <tr>\n",
       "      <td>2</td>\n",
       "      <td>YR04_02_DESS_prep_fc</td>\n",
       "      <td>0.85</td>\n",
       "      <td>0.73</td>\n",
       "      <td>-0.08</td>\n",
       "    </tr>\n",
       "    <tr>\n",
       "      <td>3</td>\n",
       "      <td>YR04_03_DESS_prep_fc</td>\n",
       "      <td>0.87</td>\n",
       "      <td>0.76</td>\n",
       "      <td>-0.06</td>\n",
       "    </tr>\n",
       "    <tr>\n",
       "      <td>4</td>\n",
       "      <td>YR04_04_DESS_prep_fc</td>\n",
       "      <td>0.88</td>\n",
       "      <td>0.79</td>\n",
       "      <td>-0.06</td>\n",
       "    </tr>\n",
       "    <tr>\n",
       "      <td>5</td>\n",
       "      <td>YR04_05_DESS_prep_fc</td>\n",
       "      <td>0.89</td>\n",
       "      <td>0.80</td>\n",
       "      <td>-0.10</td>\n",
       "    </tr>\n",
       "    <tr>\n",
       "      <td>6</td>\n",
       "      <td>YR04_06_DESS_prep_fc</td>\n",
       "      <td>0.05</td>\n",
       "      <td>0.03</td>\n",
       "      <td>-0.58</td>\n",
       "    </tr>\n",
       "    <tr>\n",
       "      <td>7</td>\n",
       "      <td>YR04_07_DESS_prep_fc</td>\n",
       "      <td>0.87</td>\n",
       "      <td>0.77</td>\n",
       "      <td>-0.10</td>\n",
       "    </tr>\n",
       "    <tr>\n",
       "      <td>8</td>\n",
       "      <td>YR04_08_DESS_prep_fc</td>\n",
       "      <td>0.87</td>\n",
       "      <td>0.78</td>\n",
       "      <td>-0.08</td>\n",
       "    </tr>\n",
       "    <tr>\n",
       "      <td>9</td>\n",
       "      <td>YR04_09_DESS_prep_fc</td>\n",
       "      <td>1.00</td>\n",
       "      <td>1.00</td>\n",
       "      <td>0.00</td>\n",
       "    </tr>\n",
       "    <tr>\n",
       "      <td>10</td>\n",
       "      <td>YR04_10_DESS_prep_fc</td>\n",
       "      <td>0.84</td>\n",
       "      <td>0.72</td>\n",
       "      <td>-0.13</td>\n",
       "    </tr>\n",
       "    <tr>\n",
       "      <td>11</td>\n",
       "      <td>YR04_11_DESS_prep_fc</td>\n",
       "      <td>0.81</td>\n",
       "      <td>0.68</td>\n",
       "      <td>-0.09</td>\n",
       "    </tr>\n",
       "    <tr>\n",
       "      <td>12</td>\n",
       "      <td>YR04_12_DESS_prep_fc</td>\n",
       "      <td>0.86</td>\n",
       "      <td>0.75</td>\n",
       "      <td>-0.12</td>\n",
       "    </tr>\n",
       "    <tr>\n",
       "      <td>13</td>\n",
       "      <td>YR04_13_DESS_prep_fc</td>\n",
       "      <td>0.86</td>\n",
       "      <td>0.76</td>\n",
       "      <td>-0.07</td>\n",
       "    </tr>\n",
       "    <tr>\n",
       "      <td>14</td>\n",
       "      <td>YR04_14_DESS_prep_fc</td>\n",
       "      <td>0.89</td>\n",
       "      <td>0.79</td>\n",
       "      <td>-0.07</td>\n",
       "    </tr>\n",
       "    <tr>\n",
       "      <td>15</td>\n",
       "      <td>YR04_15_DESS_prep_fc</td>\n",
       "      <td>0.87</td>\n",
       "      <td>0.77</td>\n",
       "      <td>-0.03</td>\n",
       "    </tr>\n",
       "    <tr>\n",
       "      <td>16</td>\n",
       "      <td>YR04_16_DESS_prep_fc</td>\n",
       "      <td>0.88</td>\n",
       "      <td>0.78</td>\n",
       "      <td>-0.08</td>\n",
       "    </tr>\n",
       "    <tr>\n",
       "      <td>17</td>\n",
       "      <td>YR04_17_DESS_prep_fc</td>\n",
       "      <td>0.86</td>\n",
       "      <td>0.75</td>\n",
       "      <td>-0.08</td>\n",
       "    </tr>\n",
       "    <tr>\n",
       "      <td>18</td>\n",
       "      <td>YR04_18_DESS_prep_fc</td>\n",
       "      <td>0.88</td>\n",
       "      <td>0.79</td>\n",
       "      <td>-0.08</td>\n",
       "    </tr>\n",
       "    <tr>\n",
       "      <td>19</td>\n",
       "      <td>YR04_19_DESS_prep_fc</td>\n",
       "      <td>0.83</td>\n",
       "      <td>0.72</td>\n",
       "      <td>-0.06</td>\n",
       "    </tr>\n",
       "  </tbody>\n",
       "</table>\n",
       "</div>"
      ],
      "text/plain": [
       "                subjects  dice_coeff  jaccard_coeff  volume_similarity\n",
       "1   YR04_01_DESS_prep_fc        0.88           0.78              -0.05\n",
       "2   YR04_02_DESS_prep_fc        0.85           0.73              -0.08\n",
       "3   YR04_03_DESS_prep_fc        0.87           0.76              -0.06\n",
       "4   YR04_04_DESS_prep_fc        0.88           0.79              -0.06\n",
       "5   YR04_05_DESS_prep_fc        0.89           0.80              -0.10\n",
       "6   YR04_06_DESS_prep_fc        0.05           0.03              -0.58\n",
       "7   YR04_07_DESS_prep_fc        0.87           0.77              -0.10\n",
       "8   YR04_08_DESS_prep_fc        0.87           0.78              -0.08\n",
       "9   YR04_09_DESS_prep_fc        1.00           1.00               0.00\n",
       "10  YR04_10_DESS_prep_fc        0.84           0.72              -0.13\n",
       "11  YR04_11_DESS_prep_fc        0.81           0.68              -0.09\n",
       "12  YR04_12_DESS_prep_fc        0.86           0.75              -0.12\n",
       "13  YR04_13_DESS_prep_fc        0.86           0.76              -0.07\n",
       "14  YR04_14_DESS_prep_fc        0.89           0.79              -0.07\n",
       "15  YR04_15_DESS_prep_fc        0.87           0.77              -0.03\n",
       "16  YR04_16_DESS_prep_fc        0.88           0.78              -0.08\n",
       "17  YR04_17_DESS_prep_fc        0.86           0.75              -0.08\n",
       "18  YR04_18_DESS_prep_fc        0.88           0.79              -0.08\n",
       "19  YR04_19_DESS_prep_fc        0.83           0.72              -0.06"
      ]
     },
     "metadata": {},
     "output_type": "display_data"
    }
   ],
   "source": [
    "coeff = sq.overlap_coeff_table(image_data, dice_coeff, jacc_coeff, vol_simil, output_file_name_overlap)\n",
    "display(coeff)"
   ]
  },
  {
   "cell_type": "markdown",
   "metadata": {},
   "source": [
    "---"
   ]
  },
  {
   "cell_type": "markdown",
   "metadata": {},
   "source": [
    "## Calculating surface distances"
   ]
  },
  {
   "cell_type": "code",
   "execution_count": 8,
   "metadata": {},
   "outputs": [],
   "source": [
    "mean_distances, stddev_distances = sq.compute_surface_distance(image_data)"
   ]
  },
  {
   "cell_type": "markdown",
   "metadata": {},
   "source": [
    "## Visualizing surface distances\n",
    "\n",
    "The values of surface distances are visualized as:\n",
    "- a GRAPH, to visually observe the trend of the dataset \n",
    "- a TABLE, to observe the numerical values"
   ]
  },
  {
   "cell_type": "markdown",
   "metadata": {},
   "source": [
    "#### GRAPH: Dots represent the mean surface distance"
   ]
  },
  {
   "cell_type": "code",
   "execution_count": 9,
   "metadata": {},
   "outputs": [
    {
     "data": {
      "image/png": "[encoded data removed]",
      "text/plain": [
       "<Figure size 1296x576 with 1 Axes>"
      ]
     },
     "metadata": {
      "needs_background": "light"
     },
     "output_type": "display_data"
    }
   ],
   "source": [
    "sq.surface_distance_graph(image_data, mean_distances, stddev_distances)"
   ]
  },
  {
   "cell_type": "markdown",
   "metadata": {},
   "source": [
    "#### TABLE: Average distances per image\n",
    "The table is saved as a .csv file for subsequent analyisis"
   ]
  },
  {
   "cell_type": "code",
   "execution_count": 10,
   "metadata": {},
   "outputs": [
    {
     "name": "stdout",
     "output_type": "stream",
     "text": [
      "Table saved as: average_distances_OAI1_DESS.csv\n"
     ]
    },
    {
     "data": {
      "text/html": [
       "<div>\n",
       "<style scoped>\n",
       "    .dataframe tbody tr th:only-of-type {\n",
       "        vertical-align: middle;\n",
       "    }\n",
       "\n",
       "    .dataframe tbody tr th {\n",
       "        vertical-align: top;\n",
       "    }\n",
       "\n",
       "    .dataframe thead th {\n",
       "        text-align: right;\n",
       "    }\n",
       "</style>\n",
       "<table border=\"1\" class=\"dataframe\">\n",
       "  <thead>\n",
       "    <tr style=\"text-align: right;\">\n",
       "      <th></th>\n",
       "      <th>subjects</th>\n",
       "      <th>mean_distances</th>\n",
       "      <th>stddev_distances</th>\n",
       "    </tr>\n",
       "  </thead>\n",
       "  <tbody>\n",
       "    <tr>\n",
       "      <td>1</td>\n",
       "      <td>YR04_01_DESS_prep_fc</td>\n",
       "      <td>0.56</td>\n",
       "      <td>0.84</td>\n",
       "    </tr>\n",
       "    <tr>\n",
       "      <td>2</td>\n",
       "      <td>YR04_02_DESS_prep_fc</td>\n",
       "      <td>0.68</td>\n",
       "      <td>1.14</td>\n",
       "    </tr>\n",
       "    <tr>\n",
       "      <td>3</td>\n",
       "      <td>YR04_03_DESS_prep_fc</td>\n",
       "      <td>0.53</td>\n",
       "      <td>1.06</td>\n",
       "    </tr>\n",
       "    <tr>\n",
       "      <td>4</td>\n",
       "      <td>YR04_04_DESS_prep_fc</td>\n",
       "      <td>0.45</td>\n",
       "      <td>0.73</td>\n",
       "    </tr>\n",
       "    <tr>\n",
       "      <td>5</td>\n",
       "      <td>YR04_05_DESS_prep_fc</td>\n",
       "      <td>0.43</td>\n",
       "      <td>0.68</td>\n",
       "    </tr>\n",
       "    <tr>\n",
       "      <td>6</td>\n",
       "      <td>YR04_06_DESS_prep_fc</td>\n",
       "      <td>28.14</td>\n",
       "      <td>17.62</td>\n",
       "    </tr>\n",
       "    <tr>\n",
       "      <td>7</td>\n",
       "      <td>YR04_07_DESS_prep_fc</td>\n",
       "      <td>0.59</td>\n",
       "      <td>1.33</td>\n",
       "    </tr>\n",
       "    <tr>\n",
       "      <td>8</td>\n",
       "      <td>YR04_08_DESS_prep_fc</td>\n",
       "      <td>0.57</td>\n",
       "      <td>1.05</td>\n",
       "    </tr>\n",
       "    <tr>\n",
       "      <td>9</td>\n",
       "      <td>YR04_09_DESS_prep_fc</td>\n",
       "      <td>0.00</td>\n",
       "      <td>0.00</td>\n",
       "    </tr>\n",
       "    <tr>\n",
       "      <td>10</td>\n",
       "      <td>YR04_10_DESS_prep_fc</td>\n",
       "      <td>0.86</td>\n",
       "      <td>1.70</td>\n",
       "    </tr>\n",
       "    <tr>\n",
       "      <td>11</td>\n",
       "      <td>YR04_11_DESS_prep_fc</td>\n",
       "      <td>0.84</td>\n",
       "      <td>1.34</td>\n",
       "    </tr>\n",
       "    <tr>\n",
       "      <td>12</td>\n",
       "      <td>YR04_12_DESS_prep_fc</td>\n",
       "      <td>0.63</td>\n",
       "      <td>1.09</td>\n",
       "    </tr>\n",
       "    <tr>\n",
       "      <td>13</td>\n",
       "      <td>YR04_13_DESS_prep_fc</td>\n",
       "      <td>0.58</td>\n",
       "      <td>1.02</td>\n",
       "    </tr>\n",
       "    <tr>\n",
       "      <td>14</td>\n",
       "      <td>YR04_14_DESS_prep_fc</td>\n",
       "      <td>0.56</td>\n",
       "      <td>0.85</td>\n",
       "    </tr>\n",
       "    <tr>\n",
       "      <td>15</td>\n",
       "      <td>YR04_15_DESS_prep_fc</td>\n",
       "      <td>0.58</td>\n",
       "      <td>0.93</td>\n",
       "    </tr>\n",
       "    <tr>\n",
       "      <td>16</td>\n",
       "      <td>YR04_16_DESS_prep_fc</td>\n",
       "      <td>0.55</td>\n",
       "      <td>0.86</td>\n",
       "    </tr>\n",
       "    <tr>\n",
       "      <td>17</td>\n",
       "      <td>YR04_17_DESS_prep_fc</td>\n",
       "      <td>0.64</td>\n",
       "      <td>1.09</td>\n",
       "    </tr>\n",
       "    <tr>\n",
       "      <td>18</td>\n",
       "      <td>YR04_18_DESS_prep_fc</td>\n",
       "      <td>0.50</td>\n",
       "      <td>0.79</td>\n",
       "    </tr>\n",
       "    <tr>\n",
       "      <td>19</td>\n",
       "      <td>YR04_19_DESS_prep_fc</td>\n",
       "      <td>0.68</td>\n",
       "      <td>1.28</td>\n",
       "    </tr>\n",
       "  </tbody>\n",
       "</table>\n",
       "</div>"
      ],
      "text/plain": [
       "                subjects  mean_distances  stddev_distances\n",
       "1   YR04_01_DESS_prep_fc            0.56              0.84\n",
       "2   YR04_02_DESS_prep_fc            0.68              1.14\n",
       "3   YR04_03_DESS_prep_fc            0.53              1.06\n",
       "4   YR04_04_DESS_prep_fc            0.45              0.73\n",
       "5   YR04_05_DESS_prep_fc            0.43              0.68\n",
       "6   YR04_06_DESS_prep_fc           28.14             17.62\n",
       "7   YR04_07_DESS_prep_fc            0.59              1.33\n",
       "8   YR04_08_DESS_prep_fc            0.57              1.05\n",
       "9   YR04_09_DESS_prep_fc            0.00              0.00\n",
       "10  YR04_10_DESS_prep_fc            0.86              1.70\n",
       "11  YR04_11_DESS_prep_fc            0.84              1.34\n",
       "12  YR04_12_DESS_prep_fc            0.63              1.09\n",
       "13  YR04_13_DESS_prep_fc            0.58              1.02\n",
       "14  YR04_14_DESS_prep_fc            0.56              0.85\n",
       "15  YR04_15_DESS_prep_fc            0.58              0.93\n",
       "16  YR04_16_DESS_prep_fc            0.55              0.86\n",
       "17  YR04_17_DESS_prep_fc            0.64              1.09\n",
       "18  YR04_18_DESS_prep_fc            0.50              0.79\n",
       "19  YR04_19_DESS_prep_fc            0.68              1.28"
      ]
     },
     "metadata": {},
     "output_type": "display_data"
    }
   ],
   "source": [
    "table = sq.surface_distance_table(image_data, mean_distances, stddev_distances, output_file_name_distances)\n",
    "display(table)"
   ]
  },
  {
   "cell_type": "markdown",
   "metadata": {},
   "source": [
    "---"
   ]
  },
  {
   "cell_type": "markdown",
   "metadata": {},
   "source": [
    "### References"
   ]
  },
  {
   "cell_type": "markdown",
   "metadata": {},
   "source": [
    "[1] Tustison N.J., Gee J.C. [*Introducing Dice, Jaccard, and Other Label Overlap Measures To ITK*](http://insight-journal.org/browse/publication/707) The Insight Journal. July-December. 2009."
   ]
  },
  {
   "cell_type": "markdown",
   "metadata": {},
   "source": [
    "### Dependencies"
   ]
  },
  {
   "cell_type": "code",
   "execution_count": 11,
   "metadata": {},
   "outputs": [
    {
     "name": "stdout",
     "output_type": "stream",
     "text": [
      "CPython 3.7.3\n",
      "IPython 7.8.0\n",
      "\n",
      "pykneer 0.0.4\n",
      "SimpleITK 1.2.2\n",
      "matplotlib 3.1.1\n",
      "numpy 1.17.2\n",
      "pandas 0.25.1\n",
      "\n",
      "compiler   : Clang 4.0.1 (tags/RELEASE_401/final)\n",
      "system     : Darwin\n",
      "release    : 17.7.0\n",
      "machine    : x86_64\n",
      "processor  : i386\n",
      "CPU cores  : 4\n",
      "interpreter: 64bit\n",
      " \n",
      "last updated: Mon Oct 14 2019 12:11:40 CEST\n"
     ]
    }
   ],
   "source": [
    "%load_ext watermark\n",
    "%watermark -v -m -p pykneer,SimpleITK,matplotlib,numpy,pandas\n",
    "print (\" \")\n",
    "%watermark -u -n -t -z"
   ]
  }
 ],
 "metadata": {
  "kernelspec": {
   "display_name": "pykneer",
   "language": "python",
   "name": "pykneer"
  },
  "language_info": {
   "codemirror_mode": {
    "name": "ipython",
    "version": 3
   },
   "file_extension": ".py",
   "mimetype": "text/x-python",
   "name": "python",
   "nbconvert_exporter": "python",
   "pygments_lexer": "ipython3",
   "version": "3.7.4"
  }
 },
 "nbformat": 4,
 "nbformat_minor": 4
}
