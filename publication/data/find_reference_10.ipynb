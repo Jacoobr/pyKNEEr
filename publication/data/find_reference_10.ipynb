{
 "cells": [
  {
   "cell_type": "markdown",
   "metadata": {},
   "source": [
    "## [pyKNEEr](https://github.com/sbonaretti/pyKNEEr)"
   ]
  },
  {
   "cell_type": "markdown",
   "metadata": {},
   "source": [
    "# [Find Reference Image for Atlas-based Segmentation of MR Knee Images](https://sbonaretti.github.io/pyKNEEr/segmentation.html)"
   ]
  },
  {
   "cell_type": "markdown",
   "metadata": {},
   "source": [
    "The reference image is found in an iterative way, as the image whose vector field is the closest to the average of the vector fields at that iteration. Iterations stop at convergence or at a defined iteration number.\n",
    "\n",
    "The image used to initialize the first iteration was determined using a random function, which was initialized with an arbitrarily chosen seed number for reproducibility ([here](https://github.com/sbonaretti/pyKNEEr/blob/master/code/find_reference_random_gen.py)) "
   ]
  },
  {
   "cell_type": "markdown",
   "metadata": {},
   "source": [
    "## Import packages"
   ]
  },
  {
   "cell_type": "code",
   "execution_count": null,
   "metadata": {},
   "outputs": [],
   "source": [
    "%load_ext autoreload \n",
    "%autoreload 2"
   ]
  },
  {
   "cell_type": "code",
   "execution_count": null,
   "metadata": {},
   "outputs": [],
   "source": [
    "from pykneer import pykneer_io            as io\n",
    "from pykneer import find_reference_for_nb as find"
   ]
  },
  {
   "cell_type": "markdown",
   "metadata": {},
   "source": [
    "## Image information"
   ]
  },
  {
   "cell_type": "markdown",
   "metadata": {},
   "source": [
    "Inputs:   \n",
    "- `input_file_name` contains the list of the preprocessed images of the dataset\n",
    "- `n_of_cores` is the number of cores used for computations (computations are parallelized for speed)"
   ]
  },
  {
   "cell_type": "code",
   "execution_count": null,
   "metadata": {},
   "outputs": [],
   "source": [
    "# Sherlock\n",
    "input_file_name = \"./image_list_find_reference_10.txt\"\n",
    "n_of_cores      = 10"
   ]
  },
  {
   "cell_type": "markdown",
   "metadata": {},
   "source": [
    "#### Read image data\n",
    "- `image_data` is a dictionary (or struct), where each cell corresponds to an image. For each image, information such as paths and file names are stored  "
   ]
  },
  {
   "cell_type": "code",
   "execution_count": null,
   "metadata": {},
   "outputs": [],
   "source": [
    "image_data = io.load_image_data_find_reference(input_file_name)"
   ]
  },
  {
   "cell_type": "markdown",
   "metadata": {},
   "source": [
    "## Find reference\n",
    "Run the convergence study to find the reference as the image whose vector field is the closest to the average of the vector fields at that iteration"
   ]
  },
  {
   "cell_type": "code",
   "execution_count": null,
   "metadata": {},
   "outputs": [],
   "source": [
    "reference_names, min_distances = find.find_reference(image_data, n_of_cores)"
   ]
  },
  {
   "cell_type": "markdown",
   "metadata": {},
   "source": [
    "## Show results\n",
    "The graph shows the images whose distance to the average vector field is the minimum, at each iteration. The image at the current iteration is used as the reference image for the following iteration."
   ]
  },
  {
   "cell_type": "code",
   "execution_count": null,
   "metadata": {},
   "outputs": [],
   "source": [
    "find.plot_convergence(reference_names, min_distances)"
   ]
  },
  {
   "cell_type": "markdown",
   "metadata": {},
   "source": [
    "### Dependencies"
   ]
  },
  {
   "cell_type": "code",
   "execution_count": null,
   "metadata": {},
   "outputs": [],
   "source": [
    "%load_ext watermark\n",
    "%watermark -v -m -p SimpleITK,numpy,matplotlib,multiprocessing"
   ]
  }
 ],
 "metadata": {
  "kernelspec": {
   "display_name": "Python 3",
   "language": "python",
   "name": "python3"
  },
  "language_info": {
   "codemirror_mode": {
    "name": "ipython",
    "version": 3
   },
   "file_extension": ".py",
   "mimetype": "text/x-python",
   "name": "python",
   "nbconvert_exporter": "python",
   "pygments_lexer": "ipython3",
   "version": "3.7.1"
  }
 },
 "nbformat": 4,
 "nbformat_minor": 2
}
