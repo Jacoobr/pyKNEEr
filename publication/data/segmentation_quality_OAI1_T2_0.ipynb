{
 "cells": [
  {
   "cell_type": "markdown",
   "metadata": {},
   "source": [
    "## [pyKNEEr](https://github.com/sbonaretti/pyKNEEr)"
   ]
  },
  {
   "cell_type": "markdown",
   "metadata": {},
   "source": [
    "# [Segmentation quality](https://sbonaretti.github.io/pyKNEEr/segmentation.html)\n",
    "Content under Creative Commons Attribution license CC-BY-NC 4.0   \n",
    "Code under GNU-GPL v3 License  \n",
    "© 2019 Serena Bonaretti\n",
    "---"
   ]
  },
  {
   "cell_type": "markdown",
   "metadata": {},
   "source": [
    "Segmentation quality is evaluated using 3 overlap agreement measures [1]:  \n",
    "- Dice coefficient  \n",
    "- Jaccard coefficient \n",
    "- Volume similarity  \n",
    "\n",
    "and one measure of surface distance"
   ]
  },
  {
   "cell_type": "markdown",
   "metadata": {},
   "source": [
    "---"
   ]
  },
  {
   "cell_type": "markdown",
   "metadata": {},
   "source": [
    "*Automatic data download for the reproducibility of this notebook:*\n",
    "- Download input images from Zenodo and image file list from GitHub:"
   ]
  },
  {
   "cell_type": "code",
   "execution_count": null,
   "metadata": {},
   "outputs": [],
   "source": [
    "import os\n",
    "import wget\n",
    "from zipfile import ZipFile "
   ]
  },
  {
   "cell_type": "code",
   "execution_count": null,
   "metadata": {},
   "outputs": [],
   "source": [
    "# local folder  \n",
    "local_folder_name  = \"./OAI1/\"\n",
    "# Zenodo variables\n",
    "input_URL          = \"https://zenodo.org/record/2583184/files/\"\n",
    "zipped_folder_name = \"OAI1_segmented.zip\" \n",
    "zipped_gt_name     = \"OAI1_segmented_QM.zip\"\n",
    "local_gt_name      = \"/segmented_QM\"\n",
    "# GitHub variables\n",
    "raw_url            = \"https://raw.githubusercontent.com/sbonaretti/pyKNEEr/master/publication/data/\"\n",
    "input_file_name    = \"image_list_segmentation_quality_OAI1_T2_0.txt\""
   ]
  },
  {
   "cell_type": "code",
   "execution_count": null,
   "metadata": {},
   "outputs": [],
   "source": [
    "# create local folder for dataset\n",
    "if not os.path.isdir(local_folder_name):\n",
    "    os.mkdir(local_folder_name)\n",
    "    print (\"folder \" + local_folder_name + \" created\")"
   ]
  },
  {
   "cell_type": "code",
   "execution_count": null,
   "metadata": {},
   "outputs": [],
   "source": [
    "# download zipped folder from Zenodo\n",
    "wget.download(input_URL + zipped_folder_name, local_folder_name + zipped_folder_name) "
   ]
  },
  {
   "cell_type": "code",
   "execution_count": null,
   "metadata": {},
   "outputs": [],
   "source": [
    "# download ground truth imagess\n",
    "wget.download(input_URL + zipped_gt_name, local_folder_name + zipped_gt_name)"
   ]
  },
  {
   "cell_type": "code",
   "execution_count": null,
   "metadata": {},
   "outputs": [],
   "source": [
    "# unzip image folder\n",
    "with ZipFile(local_folder_name + zipped_folder_name, 'r') as zip: \n",
    "    zip.extractall(local_folder_name) "
   ]
  },
  {
   "cell_type": "code",
   "execution_count": null,
   "metadata": {},
   "outputs": [],
   "source": [
    "# unzip ground truth images\n",
    "with ZipFile(local_folder_name + zipped_gt_name, 'r') as zip: \n",
    "    zip.extractall(local_folder_name + local_gt_name) "
   ]
  },
  {
   "cell_type": "code",
   "execution_count": null,
   "metadata": {},
   "outputs": [],
   "source": [
    "# download input file from GitHub\n",
    "wget.download(raw_url + input_file_name, \"./\" + input_file_name)"
   ]
  },
  {
   "cell_type": "markdown",
   "metadata": {},
   "source": [
    "---"
   ]
  },
  {
   "cell_type": "markdown",
   "metadata": {},
   "source": [
    "## Import packages"
   ]
  },
  {
   "cell_type": "code",
   "execution_count": 1,
   "metadata": {},
   "outputs": [],
   "source": [
    "%load_ext autoreload\n",
    "%autoreload 2"
   ]
  },
  {
   "cell_type": "code",
   "execution_count": 2,
   "metadata": {},
   "outputs": [],
   "source": [
    "from pykneer import pykneer_io                  as io\n",
    "from pykneer import segmentation_quality_for_nb as sq"
   ]
  },
  {
   "cell_type": "markdown",
   "metadata": {},
   "source": [
    "## Image information"
   ]
  },
  {
   "cell_type": "markdown",
   "metadata": {},
   "source": [
    "Input and output:   \n",
    "- `input_file_name` contains the list of the masks segmented using pyKNEEr and of ground truth masks\n",
    "- `output_file_name` contains the table of the overlap coefficients"
   ]
  },
  {
   "cell_type": "code",
   "execution_count": 3,
   "metadata": {},
   "outputs": [],
   "source": [
    "# input_file_name  = \"./image_list_segmentation_quality_OAI1_T2_0.txt\" # commented out because downloaded from GitHub\n",
    "input_file_name            = \"/Volumes/SereHD/work/data_pyKNEEr/image_list_segmentation_quality_OAI1_T2_0.txt\"\n",
    "output_file_name_overlap   = \"overlapCoeff_OAI1_T2_0.csv\"\n",
    "output_file_name_distances = \"average_distances_OAI1_T2_0.csv\""
   ]
  },
  {
   "cell_type": "markdown",
   "metadata": {},
   "source": [
    "#### Reading image data\n",
    "- `image_data` is a dictionary (or struct), where each cell corresponds to an image. For each image, information such as paths and file names are stored  "
   ]
  },
  {
   "cell_type": "code",
   "execution_count": 4,
   "metadata": {},
   "outputs": [
    {
     "name": "stdout",
     "output_type": "stream",
     "text": [
      "-> image information loaded\n"
     ]
    }
   ],
   "source": [
    "image_data = io.load_image_data_segmentation_quality(input_file_name)"
   ]
  },
  {
   "cell_type": "markdown",
   "metadata": {},
   "source": [
    "---"
   ]
  },
  {
   "cell_type": "markdown",
   "metadata": {},
   "source": [
    "## Calculating overlap coefficients"
   ]
  },
  {
   "cell_type": "code",
   "execution_count": 5,
   "metadata": {},
   "outputs": [],
   "source": [
    "dice_coeff, jacc_coeff, vol_simil = sq.compute_overlap(image_data)"
   ]
  },
  {
   "cell_type": "markdown",
   "metadata": {},
   "source": [
    "## Visualizing overlap coefficients\n",
    "\n",
    "The values of overlap coefficient are visualized as:\n",
    "- a GRAPH, to visually observe the trend of the dataset \n",
    "- a TABLE, to observe the numerical values"
   ]
  },
  {
   "cell_type": "markdown",
   "metadata": {},
   "source": [
    "#### GRAPH: Dots represent the coefficient value"
   ]
  },
  {
   "cell_type": "code",
   "execution_count": 6,
   "metadata": {},
   "outputs": [
    {
     "data": {
      "image/png": "[encoded data removed]",
      "text/plain": [
       "<Figure size 1296x576 with 3 Axes>"
      ]
     },
     "metadata": {
      "needs_background": "light"
     },
     "output_type": "display_data"
    }
   ],
   "source": [
    "sq.overlap_coeff_graph(image_data, dice_coeff, jacc_coeff, vol_simil)"
   ]
  },
  {
   "cell_type": "markdown",
   "metadata": {},
   "source": [
    "#### TABLE: Overlap coefficients per image\n",
    "The table is saved as a .csv file for subsequent analyisis"
   ]
  },
  {
   "cell_type": "code",
   "execution_count": 7,
   "metadata": {},
   "outputs": [
    {
     "name": "stdout",
     "output_type": "stream",
     "text": [
      "Table saved as: overlapCoeff_OAI1_T2_0.csv\n"
     ]
    },
    {
     "data": {
      "text/html": [
       "<div>\n",
       "<style scoped>\n",
       "    .dataframe tbody tr th:only-of-type {\n",
       "        vertical-align: middle;\n",
       "    }\n",
       "\n",
       "    .dataframe tbody tr th {\n",
       "        vertical-align: top;\n",
       "    }\n",
       "\n",
       "    .dataframe thead th {\n",
       "        text-align: right;\n",
       "    }\n",
       "</style>\n",
       "<table border=\"1\" class=\"dataframe\">\n",
       "  <thead>\n",
       "    <tr style=\"text-align: right;\">\n",
       "      <th></th>\n",
       "      <th>subjects</th>\n",
       "      <th>dice_coeff</th>\n",
       "      <th>jaccard_coeff</th>\n",
       "      <th>volume_similarity</th>\n",
       "    </tr>\n",
       "  </thead>\n",
       "  <tbody>\n",
       "    <tr>\n",
       "      <td>1</td>\n",
       "      <td>YR04_01_T2_0_prep_fc</td>\n",
       "      <td>0.81</td>\n",
       "      <td>0.68</td>\n",
       "      <td>0.08</td>\n",
       "    </tr>\n",
       "    <tr>\n",
       "      <td>2</td>\n",
       "      <td>YR04_02_T2_0_prep_fc</td>\n",
       "      <td>0.71</td>\n",
       "      <td>0.55</td>\n",
       "      <td>0.04</td>\n",
       "    </tr>\n",
       "    <tr>\n",
       "      <td>3</td>\n",
       "      <td>YR04_03_T2_0_prep_fc</td>\n",
       "      <td>0.75</td>\n",
       "      <td>0.60</td>\n",
       "      <td>0.20</td>\n",
       "    </tr>\n",
       "    <tr>\n",
       "      <td>4</td>\n",
       "      <td>YR04_04_T2_0_prep_fc</td>\n",
       "      <td>0.76</td>\n",
       "      <td>0.62</td>\n",
       "      <td>0.11</td>\n",
       "    </tr>\n",
       "    <tr>\n",
       "      <td>5</td>\n",
       "      <td>YR04_05_T2_0_prep_fc</td>\n",
       "      <td>0.77</td>\n",
       "      <td>0.63</td>\n",
       "      <td>0.23</td>\n",
       "    </tr>\n",
       "    <tr>\n",
       "      <td>6</td>\n",
       "      <td>YR04_06_T2_0_prep_fc</td>\n",
       "      <td>0.05</td>\n",
       "      <td>0.03</td>\n",
       "      <td>-0.53</td>\n",
       "    </tr>\n",
       "    <tr>\n",
       "      <td>7</td>\n",
       "      <td>YR04_07_T2_0_prep_fc</td>\n",
       "      <td>0.70</td>\n",
       "      <td>0.54</td>\n",
       "      <td>-0.00</td>\n",
       "    </tr>\n",
       "    <tr>\n",
       "      <td>8</td>\n",
       "      <td>YR04_08_T2_0_prep_fc</td>\n",
       "      <td>0.78</td>\n",
       "      <td>0.65</td>\n",
       "      <td>0.13</td>\n",
       "    </tr>\n",
       "    <tr>\n",
       "      <td>9</td>\n",
       "      <td>YR04_09_T2_0_prep_fc</td>\n",
       "      <td>0.78</td>\n",
       "      <td>0.65</td>\n",
       "      <td>0.21</td>\n",
       "    </tr>\n",
       "    <tr>\n",
       "      <td>10</td>\n",
       "      <td>YR04_10_T2_0_prep_fc</td>\n",
       "      <td>0.73</td>\n",
       "      <td>0.58</td>\n",
       "      <td>0.07</td>\n",
       "    </tr>\n",
       "    <tr>\n",
       "      <td>11</td>\n",
       "      <td>YR04_11_T2_0_prep_fc</td>\n",
       "      <td>0.68</td>\n",
       "      <td>0.51</td>\n",
       "      <td>-0.07</td>\n",
       "    </tr>\n",
       "    <tr>\n",
       "      <td>12</td>\n",
       "      <td>YR04_12_T2_0_prep_fc</td>\n",
       "      <td>0.78</td>\n",
       "      <td>0.64</td>\n",
       "      <td>0.16</td>\n",
       "    </tr>\n",
       "    <tr>\n",
       "      <td>13</td>\n",
       "      <td>YR04_13_T2_0_prep_fc</td>\n",
       "      <td>0.77</td>\n",
       "      <td>0.63</td>\n",
       "      <td>0.07</td>\n",
       "    </tr>\n",
       "    <tr>\n",
       "      <td>14</td>\n",
       "      <td>YR04_14_T2_0_prep_fc</td>\n",
       "      <td>0.81</td>\n",
       "      <td>0.68</td>\n",
       "      <td>0.07</td>\n",
       "    </tr>\n",
       "    <tr>\n",
       "      <td>15</td>\n",
       "      <td>YR04_15_T2_0_prep_fc</td>\n",
       "      <td>0.76</td>\n",
       "      <td>0.62</td>\n",
       "      <td>0.15</td>\n",
       "    </tr>\n",
       "    <tr>\n",
       "      <td>16</td>\n",
       "      <td>YR04_16_T2_0_prep_fc</td>\n",
       "      <td>0.81</td>\n",
       "      <td>0.67</td>\n",
       "      <td>0.04</td>\n",
       "    </tr>\n",
       "    <tr>\n",
       "      <td>17</td>\n",
       "      <td>YR04_17_T2_0_prep_fc</td>\n",
       "      <td>0.79</td>\n",
       "      <td>0.65</td>\n",
       "      <td>0.09</td>\n",
       "    </tr>\n",
       "    <tr>\n",
       "      <td>18</td>\n",
       "      <td>YR04_18_T2_0_prep_fc</td>\n",
       "      <td>0.76</td>\n",
       "      <td>0.61</td>\n",
       "      <td>0.23</td>\n",
       "    </tr>\n",
       "    <tr>\n",
       "      <td>19</td>\n",
       "      <td>YR04_19_T2_0_prep_fc</td>\n",
       "      <td>0.71</td>\n",
       "      <td>0.55</td>\n",
       "      <td>0.28</td>\n",
       "    </tr>\n",
       "  </tbody>\n",
       "</table>\n",
       "</div>"
      ],
      "text/plain": [
       "                subjects  dice_coeff  jaccard_coeff  volume_similarity\n",
       "1   YR04_01_T2_0_prep_fc        0.81           0.68               0.08\n",
       "2   YR04_02_T2_0_prep_fc        0.71           0.55               0.04\n",
       "3   YR04_03_T2_0_prep_fc        0.75           0.60               0.20\n",
       "4   YR04_04_T2_0_prep_fc        0.76           0.62               0.11\n",
       "5   YR04_05_T2_0_prep_fc        0.77           0.63               0.23\n",
       "6   YR04_06_T2_0_prep_fc        0.05           0.03              -0.53\n",
       "7   YR04_07_T2_0_prep_fc        0.70           0.54              -0.00\n",
       "8   YR04_08_T2_0_prep_fc        0.78           0.65               0.13\n",
       "9   YR04_09_T2_0_prep_fc        0.78           0.65               0.21\n",
       "10  YR04_10_T2_0_prep_fc        0.73           0.58               0.07\n",
       "11  YR04_11_T2_0_prep_fc        0.68           0.51              -0.07\n",
       "12  YR04_12_T2_0_prep_fc        0.78           0.64               0.16\n",
       "13  YR04_13_T2_0_prep_fc        0.77           0.63               0.07\n",
       "14  YR04_14_T2_0_prep_fc        0.81           0.68               0.07\n",
       "15  YR04_15_T2_0_prep_fc        0.76           0.62               0.15\n",
       "16  YR04_16_T2_0_prep_fc        0.81           0.67               0.04\n",
       "17  YR04_17_T2_0_prep_fc        0.79           0.65               0.09\n",
       "18  YR04_18_T2_0_prep_fc        0.76           0.61               0.23\n",
       "19  YR04_19_T2_0_prep_fc        0.71           0.55               0.28"
      ]
     },
     "metadata": {},
     "output_type": "display_data"
    }
   ],
   "source": [
    "coeff = sq.overlap_coeff_table(image_data, dice_coeff, jacc_coeff, vol_simil, output_file_name_overlap)\n",
    "display(coeff)"
   ]
  },
  {
   "cell_type": "markdown",
   "metadata": {},
   "source": [
    "---"
   ]
  },
  {
   "cell_type": "markdown",
   "metadata": {},
   "source": [
    "## Calculating surface distances"
   ]
  },
  {
   "cell_type": "code",
   "execution_count": 8,
   "metadata": {},
   "outputs": [],
   "source": [
    "mean_distances, stddev_distances = sq.compute_surface_distance(image_data)"
   ]
  },
  {
   "cell_type": "markdown",
   "metadata": {},
   "source": [
    "## Visualizing surface distances\n",
    "\n",
    "The values of surface distances are visualized as:\n",
    "- a GRAPH, to visually observe the trend of the dataset \n",
    "- a TABLE, to observe the numerical values"
   ]
  },
  {
   "cell_type": "markdown",
   "metadata": {},
   "source": [
    "#### GRAPH: Dots represent the mean surface distance"
   ]
  },
  {
   "cell_type": "code",
   "execution_count": 9,
   "metadata": {},
   "outputs": [
    {
     "data": {
      "image/png": "[encoded data removed]",
      "text/plain": [
       "<Figure size 1296x576 with 1 Axes>"
      ]
     },
     "metadata": {
      "needs_background": "light"
     },
     "output_type": "display_data"
    }
   ],
   "source": [
    "sq.surface_distance_graph(image_data, mean_distances, stddev_distances)"
   ]
  },
  {
   "cell_type": "markdown",
   "metadata": {},
   "source": [
    "#### TABLE: Average distances per image\n",
    "The table is saved as a .csv file for subsequent analyisis"
   ]
  },
  {
   "cell_type": "code",
   "execution_count": 10,
   "metadata": {},
   "outputs": [
    {
     "name": "stdout",
     "output_type": "stream",
     "text": [
      "Table saved as: average_distances_OAI1_T2_0.csv\n"
     ]
    },
    {
     "data": {
      "text/html": [
       "<div>\n",
       "<style scoped>\n",
       "    .dataframe tbody tr th:only-of-type {\n",
       "        vertical-align: middle;\n",
       "    }\n",
       "\n",
       "    .dataframe tbody tr th {\n",
       "        vertical-align: top;\n",
       "    }\n",
       "\n",
       "    .dataframe thead th {\n",
       "        text-align: right;\n",
       "    }\n",
       "</style>\n",
       "<table border=\"1\" class=\"dataframe\">\n",
       "  <thead>\n",
       "    <tr style=\"text-align: right;\">\n",
       "      <th></th>\n",
       "      <th>subjects</th>\n",
       "      <th>mean_distances</th>\n",
       "      <th>stddev_distances</th>\n",
       "    </tr>\n",
       "  </thead>\n",
       "  <tbody>\n",
       "    <tr>\n",
       "      <td>1</td>\n",
       "      <td>YR04_01_T2_0_prep_fc</td>\n",
       "      <td>0.48</td>\n",
       "      <td>0.96</td>\n",
       "    </tr>\n",
       "    <tr>\n",
       "      <td>2</td>\n",
       "      <td>YR04_02_T2_0_prep_fc</td>\n",
       "      <td>0.78</td>\n",
       "      <td>1.31</td>\n",
       "    </tr>\n",
       "    <tr>\n",
       "      <td>3</td>\n",
       "      <td>YR04_03_T2_0_prep_fc</td>\n",
       "      <td>0.55</td>\n",
       "      <td>1.20</td>\n",
       "    </tr>\n",
       "    <tr>\n",
       "      <td>4</td>\n",
       "      <td>YR04_04_T2_0_prep_fc</td>\n",
       "      <td>0.45</td>\n",
       "      <td>0.80</td>\n",
       "    </tr>\n",
       "    <tr>\n",
       "      <td>5</td>\n",
       "      <td>YR04_05_T2_0_prep_fc</td>\n",
       "      <td>0.42</td>\n",
       "      <td>0.86</td>\n",
       "    </tr>\n",
       "    <tr>\n",
       "      <td>6</td>\n",
       "      <td>YR04_06_T2_0_prep_fc</td>\n",
       "      <td>27.80</td>\n",
       "      <td>19.16</td>\n",
       "    </tr>\n",
       "    <tr>\n",
       "      <td>7</td>\n",
       "      <td>YR04_07_T2_0_prep_fc</td>\n",
       "      <td>0.68</td>\n",
       "      <td>1.13</td>\n",
       "    </tr>\n",
       "    <tr>\n",
       "      <td>8</td>\n",
       "      <td>YR04_08_T2_0_prep_fc</td>\n",
       "      <td>0.49</td>\n",
       "      <td>0.93</td>\n",
       "    </tr>\n",
       "    <tr>\n",
       "      <td>9</td>\n",
       "      <td>YR04_09_T2_0_prep_fc</td>\n",
       "      <td>0.46</td>\n",
       "      <td>1.03</td>\n",
       "    </tr>\n",
       "    <tr>\n",
       "      <td>10</td>\n",
       "      <td>YR04_10_T2_0_prep_fc</td>\n",
       "      <td>0.61</td>\n",
       "      <td>1.09</td>\n",
       "    </tr>\n",
       "    <tr>\n",
       "      <td>11</td>\n",
       "      <td>YR04_11_T2_0_prep_fc</td>\n",
       "      <td>0.79</td>\n",
       "      <td>1.70</td>\n",
       "    </tr>\n",
       "    <tr>\n",
       "      <td>12</td>\n",
       "      <td>YR04_12_T2_0_prep_fc</td>\n",
       "      <td>0.44</td>\n",
       "      <td>0.81</td>\n",
       "    </tr>\n",
       "    <tr>\n",
       "      <td>13</td>\n",
       "      <td>YR04_13_T2_0_prep_fc</td>\n",
       "      <td>0.51</td>\n",
       "      <td>0.97</td>\n",
       "    </tr>\n",
       "    <tr>\n",
       "      <td>14</td>\n",
       "      <td>YR04_14_T2_0_prep_fc</td>\n",
       "      <td>0.52</td>\n",
       "      <td>1.50</td>\n",
       "    </tr>\n",
       "    <tr>\n",
       "      <td>15</td>\n",
       "      <td>YR04_15_T2_0_prep_fc</td>\n",
       "      <td>0.54</td>\n",
       "      <td>1.12</td>\n",
       "    </tr>\n",
       "    <tr>\n",
       "      <td>16</td>\n",
       "      <td>YR04_16_T2_0_prep_fc</td>\n",
       "      <td>0.48</td>\n",
       "      <td>1.02</td>\n",
       "    </tr>\n",
       "    <tr>\n",
       "      <td>17</td>\n",
       "      <td>YR04_17_T2_0_prep_fc</td>\n",
       "      <td>0.43</td>\n",
       "      <td>0.82</td>\n",
       "    </tr>\n",
       "    <tr>\n",
       "      <td>18</td>\n",
       "      <td>YR04_18_T2_0_prep_fc</td>\n",
       "      <td>0.52</td>\n",
       "      <td>1.16</td>\n",
       "    </tr>\n",
       "    <tr>\n",
       "      <td>19</td>\n",
       "      <td>YR04_19_T2_0_prep_fc</td>\n",
       "      <td>0.53</td>\n",
       "      <td>0.96</td>\n",
       "    </tr>\n",
       "  </tbody>\n",
       "</table>\n",
       "</div>"
      ],
      "text/plain": [
       "                subjects  mean_distances  stddev_distances\n",
       "1   YR04_01_T2_0_prep_fc            0.48              0.96\n",
       "2   YR04_02_T2_0_prep_fc            0.78              1.31\n",
       "3   YR04_03_T2_0_prep_fc            0.55              1.20\n",
       "4   YR04_04_T2_0_prep_fc            0.45              0.80\n",
       "5   YR04_05_T2_0_prep_fc            0.42              0.86\n",
       "6   YR04_06_T2_0_prep_fc           27.80             19.16\n",
       "7   YR04_07_T2_0_prep_fc            0.68              1.13\n",
       "8   YR04_08_T2_0_prep_fc            0.49              0.93\n",
       "9   YR04_09_T2_0_prep_fc            0.46              1.03\n",
       "10  YR04_10_T2_0_prep_fc            0.61              1.09\n",
       "11  YR04_11_T2_0_prep_fc            0.79              1.70\n",
       "12  YR04_12_T2_0_prep_fc            0.44              0.81\n",
       "13  YR04_13_T2_0_prep_fc            0.51              0.97\n",
       "14  YR04_14_T2_0_prep_fc            0.52              1.50\n",
       "15  YR04_15_T2_0_prep_fc            0.54              1.12\n",
       "16  YR04_16_T2_0_prep_fc            0.48              1.02\n",
       "17  YR04_17_T2_0_prep_fc            0.43              0.82\n",
       "18  YR04_18_T2_0_prep_fc            0.52              1.16\n",
       "19  YR04_19_T2_0_prep_fc            0.53              0.96"
      ]
     },
     "metadata": {},
     "output_type": "display_data"
    }
   ],
   "source": [
    "table = sq.surface_distance_table(image_data, mean_distances, stddev_distances, output_file_name_distances)\n",
    "display(table)"
   ]
  },
  {
   "cell_type": "markdown",
   "metadata": {},
   "source": [
    "---"
   ]
  },
  {
   "cell_type": "markdown",
   "metadata": {},
   "source": [
    "### References"
   ]
  },
  {
   "cell_type": "markdown",
   "metadata": {},
   "source": [
    "[1] Tustison N.J., Gee J.C. [*Introducing Dice, Jaccard, and Other Label Overlap Measures To ITK*](http://insight-journal.org/browse/publication/707) The Insight Journal. July-December. 2009."
   ]
  },
  {
   "cell_type": "markdown",
   "metadata": {},
   "source": [
    "### Dependencies"
   ]
  },
  {
   "cell_type": "code",
   "execution_count": 11,
   "metadata": {},
   "outputs": [
    {
     "name": "stdout",
     "output_type": "stream",
     "text": [
      "CPython 3.7.3\n",
      "IPython 7.8.0\n",
      "\n",
      "pykneer 0.0.4\n",
      "SimpleITK 1.2.2\n",
      "matplotlib 3.1.1\n",
      "numpy 1.17.2\n",
      "pandas 0.25.1\n",
      "\n",
      "compiler   : Clang 4.0.1 (tags/RELEASE_401/final)\n",
      "system     : Darwin\n",
      "release    : 17.7.0\n",
      "machine    : x86_64\n",
      "processor  : i386\n",
      "CPU cores  : 4\n",
      "interpreter: 64bit\n",
      " \n",
      "last updated: Mon Oct 14 2019 12:06:43 CEST\n"
     ]
    }
   ],
   "source": [
    "%load_ext watermark\n",
    "%watermark -v -m -p pykneer,SimpleITK,matplotlib,numpy,pandas\n",
    "print (\" \")\n",
    "%watermark -u -n -t -z"
   ]
  }
 ],
 "metadata": {
  "kernelspec": {
   "display_name": "pykneer",
   "language": "python",
   "name": "pykneer"
  },
  "language_info": {
   "codemirror_mode": {
    "name": "ipython",
    "version": 3
   },
   "file_extension": ".py",
   "mimetype": "text/x-python",
   "name": "python",
   "nbconvert_exporter": "python",
   "pygments_lexer": "ipython3",
   "version": "3.7.4"
  }
 },
 "nbformat": 4,
 "nbformat_minor": 4
}
